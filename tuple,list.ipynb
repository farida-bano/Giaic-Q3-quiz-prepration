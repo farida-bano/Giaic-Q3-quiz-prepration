{
  "nbformat": 4,
  "nbformat_minor": 0,
  "metadata": {
    "colab": {
      "provenance": [],
      "authorship_tag": "ABX9TyNOOqbkPsAX0qYmsc76l2ci",
      "include_colab_link": true
    },
    "kernelspec": {
      "name": "python3",
      "display_name": "Python 3"
    },
    "language_info": {
      "name": "python"
    }
  },
  "cells": [
    {
      "cell_type": "markdown",
      "metadata": {
        "id": "view-in-github",
        "colab_type": "text"
      },
      "source": [
        "<a href=\"https://colab.research.google.com/github/farida-bano/Giaic-Q3-quiz-prepration/blob/main/tuple%2Clist.ipynb\" target=\"_parent\"><img src=\"https://colab.research.google.com/assets/colab-badge.svg\" alt=\"Open In Colab\"/></a>"
      ]
    },
    {
      "cell_type": "code",
      "execution_count": null,
      "metadata": {
        "colab": {
          "base_uri": "https://localhost:8080/"
        },
        "id": "BndRjvbjrLUo",
        "outputId": "4ed10095-3e50-4f4f-8897-361a1d084591"
      },
      "outputs": [
        {
          "output_type": "stream",
          "name": "stdout",
          "text": [
            "(1, 2, 3, [10, 5])\n"
          ]
        }
      ],
      "source": [
        "my_tuple = (1, 2, 3, [4, 5])\n",
        "my_tuple[3][0] = 10\n",
        "print(my_tuple)"
      ]
    },
    {
      "cell_type": "code",
      "source": [
        "person = {\"name\": \"Alice\", \"age\": 25}\n",
        "person[\"age\"] = 26\n",
        "print(person)"
      ],
      "metadata": {
        "colab": {
          "base_uri": "https://localhost:8080/"
        },
        "id": "DIZQyOgT1YOu",
        "outputId": "ee163e8b-0cc8-4e38-f969-8866699e33ee"
      },
      "execution_count": null,
      "outputs": [
        {
          "output_type": "stream",
          "name": "stdout",
          "text": [
            "{'name': 'Alice', 'age': 26}\n"
          ]
        }
      ]
    },
    {
      "cell_type": "code",
      "source": [
        "thisdict = {\"brand\": \"Ford\", \"model\": \"Mustang\", \"year\": 2020}\n",
        "\n",
        "for key, value in thisdict.items():\n",
        "    print(key, \":\", value)"
      ],
      "metadata": {
        "colab": {
          "base_uri": "https://localhost:8080/"
        },
        "id": "m43o-JzX1e5Q",
        "outputId": "2a9c26e1-57f1-4128-9334-678892c0a6de"
      },
      "execution_count": null,
      "outputs": [
        {
          "output_type": "stream",
          "name": "stdout",
          "text": [
            "brand : Ford\n",
            "model : Mustang\n",
            "year : 2020\n"
          ]
        }
      ]
    },
    {
      "cell_type": "code",
      "source": [
        "\n",
        "numbers = [10, 20, 30, 40]\n",
        "numbers.append([50, 60])\n",
        "print(numbers)\n",
        "\n"
      ],
      "metadata": {
        "colab": {
          "base_uri": "https://localhost:8080/"
        },
        "id": "r1HMBwOW1yUP",
        "outputId": "b4ed510b-bba4-48f4-8ca2-9cd93fab7dd9"
      },
      "execution_count": null,
      "outputs": [
        {
          "output_type": "stream",
          "name": "stdout",
          "text": [
            "[10, 20, 30, 40, [50, 60]]\n"
          ]
        }
      ]
    },
    {
      "cell_type": "code",
      "source": [
        "numbers = [1, 2, 3, 4, 5]\n",
        "squared = [x**2 for x in numbers if x % 2 == 0]\n",
        "print(squared)"
      ],
      "metadata": {
        "colab": {
          "base_uri": "https://localhost:8080/"
        },
        "id": "-DIZxQeX172J",
        "outputId": "f450d5d0-c34c-4b85-9ac5-93be389c032d"
      },
      "execution_count": null,
      "outputs": [
        {
          "output_type": "stream",
          "name": "stdout",
          "text": [
            "[4, 16]\n"
          ]
        }
      ]
    },
    {
      "cell_type": "code",
      "source": [
        "fruits = [\"apple\", \"banana\", \"cherry\"]\n",
        "print(fruits[1])"
      ],
      "metadata": {
        "colab": {
          "base_uri": "https://localhost:8080/"
        },
        "id": "fpOPCt_n2Gr6",
        "outputId": "c4b24a7a-5332-44ba-a06d-ef816b78c81b"
      },
      "execution_count": null,
      "outputs": [
        {
          "output_type": "stream",
          "name": "stdout",
          "text": [
            "banana\n"
          ]
        }
      ]
    },
    {
      "cell_type": "code",
      "source": [
        "print(__name__)"
      ],
      "metadata": {
        "colab": {
          "base_uri": "https://localhost:8080/"
        },
        "id": "Qgax50sD8vh0",
        "outputId": "9030c764-788a-4e4b-9315-7b4f957e482b"
      },
      "execution_count": null,
      "outputs": [
        {
          "output_type": "stream",
          "name": "stdout",
          "text": [
            "__main__\n"
          ]
        }
      ]
    },
    {
      "cell_type": "code",
      "source": [
        "def func() :\n",
        "    print(\"Module 1 function\")\n",
        "\n",
        "if __name__ == \"__main__\" :\n",
        "    print(\"Module 1 executed directly\")\n"
      ],
      "metadata": {
        "colab": {
          "base_uri": "https://localhost:8080/"
        },
        "id": "1WKgEp5S9CH7",
        "outputId": "b3a34b2a-4a54-42c4-f4b6-8195e7016e41"
      },
      "execution_count": null,
      "outputs": [
        {
          "output_type": "stream",
          "name": "stdout",
          "text": [
            "Module 1 executed directly\n"
          ]
        }
      ]
    },
    {
      "cell_type": "code",
      "source": [
        "import random\n",
        "import random as rnd\n",
        "rnd.choice = lambda lst: lst[0]\n",
        "print(random.choice([1, 2, 3]) , end=\" \")\n",
        "print(rnd.choice([1, 2, 3]), end=\" \")"
      ],
      "metadata": {
        "id": "sBqWJiINC1_R",
        "outputId": "c721228c-b724-4aa1-e39d-0e043d696b66",
        "colab": {
          "base_uri": "https://localhost:8080/"
        }
      },
      "execution_count": null,
      "outputs": [
        {
          "output_type": "stream",
          "name": "stdout",
          "text": [
            "1 1 "
          ]
        }
      ]
    },
    {
      "cell_type": "code",
      "source": [
        "import math\n",
        "try:\n",
        "    square = math.sqrt(-1)\n",
        "except ValueError as e:\n",
        "    print(f\" An error occured! ({e})\")"
      ],
      "metadata": {
        "colab": {
          "base_uri": "https://localhost:8080/"
        },
        "id": "hwDtLU3UOpoU",
        "outputId": "1362fa4c-0a06-499c-d9e3-cdac940f9fdd"
      },
      "execution_count": 12,
      "outputs": [
        {
          "output_type": "stream",
          "name": "stdout",
          "text": [
            " An error occured! (math domain error)\n"
          ]
        }
      ]
    },
    {
      "cell_type": "code",
      "source": [
        "try:\n",
        "    result = 5 / 0\n",
        "except ZeroDivisionError:\n",
        "    print(\"Cannot divide by zero!\")\n",
        "else:\n",
        "    print(f\"Division successful. Result: {result}\")\n"
      ],
      "metadata": {
        "colab": {
          "base_uri": "https://localhost:8080/"
        },
        "id": "Ipmvq9e1OwXT",
        "outputId": "c7d8a24b-1fbf-4be3-e3b8-e654c1475242"
      },
      "execution_count": 13,
      "outputs": [
        {
          "output_type": "stream",
          "name": "stdout",
          "text": [
            "Cannot divide by zero!\n"
          ]
        }
      ]
    },
    {
      "cell_type": "code",
      "source": [
        "try:\n",
        "    numbers = [1, 2, 3]\n",
        "    result = numbers[1]\n",
        "except IndexError:\n",
        "    print(\"Index out of range!\")\n",
        "else:\n",
        "    print(f\"Access successful! Value: {result}\")"
      ],
      "metadata": {
        "colab": {
          "base_uri": "https://localhost:8080/"
        },
        "id": "lCOpTwYOOzJ9",
        "outputId": "b2760625-e79c-4a05-f892-d4be97ec57f9"
      },
      "execution_count": 14,
      "outputs": [
        {
          "output_type": "stream",
          "name": "stdout",
          "text": [
            "Access successful! Value: 2\n"
          ]
        }
      ]
    },
    {
      "cell_type": "code",
      "source": [
        "try:\n",
        "    result = 10 / 0\n",
        "except ZeroDivisionError:\n",
        "    print(\"Cannot divide by zero!\")\n",
        "finally:\n",
        "    print(\"Finally done!\")"
      ],
      "metadata": {
        "colab": {
          "base_uri": "https://localhost:8080/"
        },
        "id": "u_mDW1shYtMb",
        "outputId": "3d4af3cc-5b06-43db-bbd7-2dc7fc001d16"
      },
      "execution_count": 15,
      "outputs": [
        {
          "output_type": "stream",
          "name": "stdout",
          "text": [
            "Cannot divide by zero!\n",
            "Finally done!\n"
          ]
        }
      ]
    },
    {
      "cell_type": "code",
      "source": [
        "\n",
        "def check_age(age):\n",
        "    if age < 18:\n",
        "        raise ValueError(\"Age must be 18 or older!\")\n",
        "    return \"Age is valid\"\n",
        "try:\n",
        "    result = check_age(15)\n",
        "except ValueError as e:\n",
        "    print(f\"Error: {e}\")"
      ],
      "metadata": {
        "colab": {
          "base_uri": "https://localhost:8080/"
        },
        "id": "yIstFwQ5YzaU",
        "outputId": "7150ff7d-47b1-4c14-e6c6-b842288fdd9d"
      },
      "execution_count": 16,
      "outputs": [
        {
          "output_type": "stream",
          "name": "stdout",
          "text": [
            "Error: Age must be 18 or older!\n"
          ]
        }
      ]
    },
    {
      "cell_type": "code",
      "source": [
        "from typing import NoReturn\n",
        "\n",
        "def error_function() -> NoReturn:\n",
        "    return 1 / 0\n",
        "try:\n",
        "    error_function()\n",
        "except Exception as e:\n",
        "    print(\"Error:\", e)"
      ],
      "metadata": {
        "colab": {
          "base_uri": "https://localhost:8080/"
        },
        "id": "WAK5tyYrY6IR",
        "outputId": "2daecb5d-a8e3-4f51-d5b3-b3587ffd158a"
      },
      "execution_count": 17,
      "outputs": [
        {
          "output_type": "stream",
          "name": "stdout",
          "text": [
            "Error: division by zero\n"
          ]
        }
      ]
    },
    {
      "cell_type": "code",
      "source": [
        "import sys\n",
        "def terminate_program() -> None:\n",
        "    sys.exit(\"Program terminated\")\n",
        "try:\n",
        "    terminate_program()\n",
        "except SystemExit as e:\n",
        "    print(\"Error:\", e)"
      ],
      "metadata": {
        "colab": {
          "base_uri": "https://localhost:8080/"
        },
        "id": "kORBi81dZFM6",
        "outputId": "78001d9f-159d-4bca-b143-954e33a5c9b9"
      },
      "execution_count": 18,
      "outputs": [
        {
          "output_type": "stream",
          "name": "stdout",
          "text": [
            "Error: Program terminated\n"
          ]
        }
      ]
    },
    {
      "cell_type": "code",
      "source": [
        "\n",
        "def divide_numbers(a, b):\n",
        "    try:\n",
        "        result = a / b\n",
        "    except ZeroDivisionError:\n",
        "        print(\"Error: Cannot divide by zero!\")\n",
        "    except TypeError:\n",
        "        print(\"Error: Invalid input type. Numbers required.\")\n",
        "    else:\n",
        "        print(f\"Division successful. Result: {result}\")\n",
        "    finally:\n",
        "        print(\"Operation complete.\")\n",
        "\n",
        "divide_numbers(10, \"2\")"
      ],
      "metadata": {
        "colab": {
          "base_uri": "https://localhost:8080/"
        },
        "id": "sfUYnh6sY1Uv",
        "outputId": "ebdc9234-8beb-4061-bc1c-7ebd826959e6"
      },
      "execution_count": 19,
      "outputs": [
        {
          "output_type": "stream",
          "name": "stdout",
          "text": [
            "Error: Invalid input type. Numbers required.\n",
            "Operation complete.\n"
          ]
        }
      ]
    },
    {
      "cell_type": "code",
      "source": [
        "try:\n",
        "    result = \"Hello\" + 5\n",
        "except TypeError:\n",
        "    print(\"An Error occured.\")"
      ],
      "metadata": {
        "colab": {
          "base_uri": "https://localhost:8080/"
        },
        "id": "nU9BnLSkZhVt",
        "outputId": "eadce027-9e0e-4021-9cde-cd2c16cc7cd0"
      },
      "execution_count": 20,
      "outputs": [
        {
          "output_type": "stream",
          "name": "stdout",
          "text": [
            "An Error occured.\n"
          ]
        }
      ]
    },
    {
      "cell_type": "code",
      "source": [
        "try:\n",
        "    my_dict = {\n",
        "        \"name\":\"john\",\n",
        "        \"age\": 25\n",
        "    }\n",
        "    print(my_dict[\"contact\"])\n",
        "except KeyError as e:\n",
        "    print(f\"KeyError: {e} - key does not exist in the dictionary.\")\n"
      ],
      "metadata": {
        "colab": {
          "base_uri": "https://localhost:8080/"
        },
        "id": "Wc-L8anvZqWS",
        "outputId": "ee6f6f8a-d8b0-4f61-bea8-8cf45cf58dbc"
      },
      "execution_count": 21,
      "outputs": [
        {
          "output_type": "stream",
          "name": "stdout",
          "text": [
            "KeyError: 'contact' - key does not exist in the dictionary.\n"
          ]
        }
      ]
    }
  ]
}