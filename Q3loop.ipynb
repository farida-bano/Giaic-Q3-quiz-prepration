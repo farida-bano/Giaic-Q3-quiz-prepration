{
  "nbformat": 4,
  "nbformat_minor": 0,
  "metadata": {
    "colab": {
      "provenance": [],
      "authorship_tag": "ABX9TyM5RzP4giy4ZFmpP2SimFF9",
      "include_colab_link": true
    },
    "kernelspec": {
      "name": "python3",
      "display_name": "Python 3"
    },
    "language_info": {
      "name": "python"
    }
  },
  "cells": [
    {
      "cell_type": "markdown",
      "metadata": {
        "id": "view-in-github",
        "colab_type": "text"
      },
      "source": [
        "<a href=\"https://colab.research.google.com/github/farida-bano/Giaic-Q3-quiz-prepration/blob/main/Q3loop.ipynb\" target=\"_parent\"><img src=\"https://colab.research.google.com/assets/colab-badge.svg\" alt=\"Open In Colab\"/></a>"
      ]
    },
    {
      "cell_type": "code",
      "source": [
        "num: int = 10\n",
        "\n",
        "if num > 0:\n",
        "    print(\"The number is positive.\")"
      ],
      "metadata": {
        "colab": {
          "base_uri": "https://localhost:8080/"
        },
        "id": "uNL44zwMEp6B",
        "outputId": "850b358d-df39-4870-b899-84d483e4fd0f"
      },
      "execution_count": 6,
      "outputs": [
        {
          "output_type": "stream",
          "name": "stdout",
          "text": [
            "The number is positive.\n"
          ]
        }
      ]
    },
    {
      "cell_type": "code",
      "source": [
        "num: int = 10\n",
        "\n",
        "if num < 0:\n",
        "    print(\"The number is positive.\")\n",
        "else:\n",
        "  print(\"ab ye code chalegaa..\")"
      ],
      "metadata": {
        "colab": {
          "base_uri": "https://localhost:8080/"
        },
        "id": "TY4gQPOdFGd6",
        "outputId": "a1024f9f-4b48-42e6-f131-e6991dbd0591"
      },
      "execution_count": 9,
      "outputs": [
        {
          "output_type": "stream",
          "name": "stdout",
          "text": [
            "ab ye code chalegaa..\n"
          ]
        }
      ]
    },
    {
      "cell_type": "code",
      "source": [
        "num: int = -5\n",
        "\n",
        "if num > 0:\n",
        "    print(\"The number is positive.\")\n",
        "else:\n",
        "    print(\"The number is not positive.\")"
      ],
      "metadata": {
        "colab": {
          "base_uri": "https://localhost:8080/"
        },
        "id": "JTEU4xiPE2DX",
        "outputId": "21bbcf55-5275-4c11-a66d-7b967753b33a"
      },
      "execution_count": 7,
      "outputs": [
        {
          "output_type": "stream",
          "name": "stdout",
          "text": [
            "The number is not positive.\n"
          ]
        }
      ]
    },
    {
      "cell_type": "code",
      "source": [
        "num: int = 0\n",
        "\n",
        "if num > 0: #  False\n",
        "    print(\"The number is positive.\")\n",
        "elif num < 0: # False\n",
        "    print(\"The number is negative.\")\n",
        "else: #  execute the else block\n",
        "    print(\"The number is zero.\")"
      ],
      "metadata": {
        "colab": {
          "base_uri": "https://localhost:8080/"
        },
        "id": "AkF2fmBnFD-v",
        "outputId": "76f61ee0-2b96-4383-cbd0-b5f9cc7f52c6"
      },
      "execution_count": 12,
      "outputs": [
        {
          "output_type": "stream",
          "name": "stdout",
          "text": [
            "The number is zero.\n"
          ]
        }
      ]
    },
    {
      "cell_type": "code",
      "source": [
        "num: int = -1\n",
        "\n",
        "if num > 0: #  False\n",
        "    print(\"The number is positive.\")\n",
        "elif num < 0: # True\n",
        "    print(\"The number is negative.\")\n",
        "else: #  python will execute the else block\n",
        "    print(\"The number is zero.\")"
      ],
      "metadata": {
        "colab": {
          "base_uri": "https://localhost:8080/"
        },
        "id": "Dm4xtZoFGpbv",
        "outputId": "51358623-a5c5-457f-cc73-ffc515b7fbee"
      },
      "execution_count": 10,
      "outputs": [
        {
          "output_type": "stream",
          "name": "stdout",
          "text": [
            "The number is negative.\n"
          ]
        }
      ]
    },
    {
      "cell_type": "code",
      "source": [
        "num: int = 1\n",
        "\n",
        "if num > 0: #  True\n",
        "    print(\"The number is positive.\")\n",
        "elif num < 0: # True\n",
        "    print(\"The number is negative.\")\n",
        "else: #  python will execute the else block\n",
        "    print(\"The number is zero.\")"
      ],
      "metadata": {
        "colab": {
          "base_uri": "https://localhost:8080/"
        },
        "id": "o-0vjsaFG93C",
        "outputId": "2395c98e-1d0e-4d5f-f838-841bb1cd1b3e"
      },
      "execution_count": 11,
      "outputs": [
        {
          "output_type": "stream",
          "name": "stdout",
          "text": [
            "The number is positive.\n"
          ]
        }
      ]
    },
    {
      "cell_type": "code",
      "source": [
        "# NESTED main condition k under condistion\n",
        "num: int = 10\n",
        "#num: int = -10\n",
        "\n",
        "if num > 0: # -\n",
        "\n",
        "    if num % 2 == 0: # Modulus operator, remainder 0 = even_number,\n",
        "        print(\"The number is positive and even.\")\n",
        "    else: # remainder 1 = odd_number,\n",
        "        print(\"The number is positive and odd.\")\n",
        "\n",
        "else:\n",
        "    print(\"The number is negative.\")"
      ],
      "metadata": {
        "colab": {
          "base_uri": "https://localhost:8080/"
        },
        "id": "IqV3vlxcHTs_",
        "outputId": "7fb03c83-05aa-4d95-84de-7f1d04485b7a"
      },
      "execution_count": 15,
      "outputs": [
        {
          "output_type": "stream",
          "name": "stdout",
          "text": [
            "The number is positive and even.\n"
          ]
        }
      ]
    },
    {
      "cell_type": "code",
      "source": [
        "#Python match-case Statement\n",
        "def check_status(code):\n",
        "    match code:\n",
        "        case 200:\n",
        "            print(\"OK\")\n",
        "        case 400:\n",
        "            print(\"Bad Request\")\n",
        "        case 404:\n",
        "            print(\"Not Found\")\n",
        "        case _:\n",
        "            print(\"Unknown Status\")\n",
        "\n",
        "check_status(200)\n",
        "check_status(404)\n",
        "check_status(600)"
      ],
      "metadata": {
        "colab": {
          "base_uri": "https://localhost:8080/"
        },
        "id": "614AZQ2dRjHV",
        "outputId": "702fea06-4b8f-4618-a954-b81b1729db98"
      },
      "execution_count": 19,
      "outputs": [
        {
          "output_type": "stream",
          "name": "stdout",
          "text": [
            "OK\n",
            "Not Found\n",
            "Unknown Status\n"
          ]
        }
      ]
    },
    {
      "cell_type": "code",
      "source": [
        " # range in for\n",
        "x =range(10)\n",
        "for farida in x :\n",
        "  print(farida)"
      ],
      "metadata": {
        "colab": {
          "base_uri": "https://localhost:8080/"
        },
        "id": "pJRQQ-42mLyD",
        "outputId": "d54b5cee-a3ee-4007-8c18-f04c916d31f5"
      },
      "execution_count": 21,
      "outputs": [
        {
          "output_type": "stream",
          "name": "stdout",
          "text": [
            "0\n",
            "1\n",
            "2\n",
            "3\n",
            "4\n",
            "5\n",
            "6\n",
            "7\n",
            "8\n",
            "9\n"
          ]
        }
      ]
    },
    {
      "cell_type": "code",
      "source": [
        "# list in  for loop\n",
        "furite =[ \"apple\",\"banana\",\"cherry\"]\n",
        "for fb in furite:\n",
        "  print(fb)"
      ],
      "metadata": {
        "colab": {
          "base_uri": "https://localhost:8080/"
        },
        "id": "3oUgP-9_m3nU",
        "outputId": "b1afae6c-5a5c-4285-b019-b36d60dfa7a8"
      },
      "execution_count": 22,
      "outputs": [
        {
          "output_type": "stream",
          "name": "stdout",
          "text": [
            "apple\n",
            "banana\n",
            "cherry\n"
          ]
        }
      ]
    },
    {
      "cell_type": "code",
      "source": [
        "# Iterate over a string\n",
        "word: str = \"Python\"\n",
        "for letter in word:\n",
        "    print(letter)"
      ],
      "metadata": {
        "colab": {
          "base_uri": "https://localhost:8080/"
        },
        "id": "Vr4jaJ0PoLHX",
        "outputId": "1da2a7b3-25d3-4627-fd2e-013168229725"
      },
      "execution_count": 23,
      "outputs": [
        {
          "output_type": "stream",
          "name": "stdout",
          "text": [
            "P\n",
            "y\n",
            "t\n",
            "h\n",
            "o\n",
            "n\n"
          ]
        }
      ]
    },
    {
      "cell_type": "code",
      "source": [
        "# Iterate over a string\n",
        "word :str =\"Farida\"\n",
        "for letter in word:\n",
        "    print(letter)"
      ],
      "metadata": {
        "colab": {
          "base_uri": "https://localhost:8080/"
        },
        "id": "GFunQL9DRvIy",
        "outputId": "a324e6a6-be64-4339-a20e-eef608a65e18"
      },
      "execution_count": 26,
      "outputs": [
        {
          "output_type": "stream",
          "name": "stdout",
          "text": [
            "F\n",
            "a\n",
            "r\n",
            "i\n",
            "d\n",
            "a\n"
          ]
        }
      ]
    },
    {
      "cell_type": "code",
      "source": [
        "# FOR LOOP WITH ELSE (NO BREAK)\n",
        "numbers = [1, 2, 3, 4, 5]\n",
        "\n",
        "for num in numbers:\n",
        "    print(num)\n",
        "else:\n",
        "    print(\"Loop completed successfully!\")"
      ],
      "metadata": {
        "colab": {
          "base_uri": "https://localhost:8080/"
        },
        "id": "Uqn0p5Jaok5X",
        "outputId": "3a4fd819-33ac-4bfa-9e9f-8c24ad3b1480"
      },
      "execution_count": 27,
      "outputs": [
        {
          "output_type": "stream",
          "name": "stdout",
          "text": [
            "1\n",
            "2\n",
            "3\n",
            "4\n",
            "5\n",
            "Loop completed successfully!\n"
          ]
        }
      ]
    },
    {
      "cell_type": "code",
      "source": [
        "#break\n",
        "numbers = [1, 2, 3, 4, 5]\n",
        "\n",
        "for num in numbers:\n",
        "    print(num)\n",
        "    if num == 3:\n",
        "        print(\"Breaking the loop!\")\n",
        "        break\n",
        "else:\n",
        "    print(\"Loop completed successfully!\")"
      ],
      "metadata": {
        "colab": {
          "base_uri": "https://localhost:8080/"
        },
        "id": "IpJL625lpQNo",
        "outputId": "9b3b403f-8ec0-4f62-f21f-5428cd0c53eb"
      },
      "execution_count": 28,
      "outputs": [
        {
          "output_type": "stream",
          "name": "stdout",
          "text": [
            "1\n",
            "2\n",
            "3\n",
            "4\n",
            "5\n",
            "6\n",
            "Breaking the loop!\n"
          ]
        }
      ]
    },
    {
      "cell_type": "code",
      "source": [
        "#break\n",
        "numbers = [1, 2, 3, 4, 5]\n",
        "\n",
        "for num in numbers:\n",
        "    print(num)\n",
        "    if num == 7:\n",
        "        print(\"Breaking the loop!\")\n",
        "        break\n",
        "else:\n",
        "    print(\"Loop completed successfully!\")"
      ],
      "metadata": {
        "colab": {
          "base_uri": "https://localhost:8080/"
        },
        "id": "UQUHrA_PqTe3",
        "outputId": "4c7f7ec5-1fe1-407f-9847-9359622edcb9"
      },
      "execution_count": 30,
      "outputs": [
        {
          "output_type": "stream",
          "name": "stdout",
          "text": [
            "1\n",
            "2\n",
            "3\n",
            "4\n",
            "5\n",
            "Loop completed successfully!\n"
          ]
        }
      ]
    },
    {
      "cell_type": "code",
      "source": [
        "#continue # is 3 skip nahi hao ga 3 k bad if aay then 4 5 etc\n",
        "numbers = [1, 2, 3, 4, 5]\n",
        "\n",
        "for num in numbers:\n",
        "    print(num)\n",
        "    if num == 3:\n",
        "        print(\"Breaking the loop!\")\n",
        "        continue\n",
        "else:\n",
        "    print(\"Loop completed successfully!\")"
      ],
      "metadata": {
        "colab": {
          "base_uri": "https://localhost:8080/"
        },
        "id": "B-hC2Wispec3",
        "outputId": "8da49cbc-c671-4490-aa96-62bbaf3387dc"
      },
      "execution_count": 29,
      "outputs": [
        {
          "output_type": "stream",
          "name": "stdout",
          "text": [
            "1\n",
            "2\n",
            "3\n",
            "Breaking the loop!\n",
            "4\n",
            "5\n",
            "Loop completed successfully!\n"
          ]
        }
      ]
    },
    {
      "cell_type": "code",
      "source": [
        "#continue# is main 3 skip ho ga\n",
        "numbers = [1, 2, 3, 4, 5]\n",
        "\n",
        "for num in numbers:\n",
        "\n",
        "    if num == 3:\n",
        "        print(\"Breaking the loop!\")\n",
        "        continue\n",
        "    print (num)\n",
        "else:\n",
        "    print(\"Loop completed successfully!\")"
      ],
      "metadata": {
        "colab": {
          "base_uri": "https://localhost:8080/"
        },
        "id": "mN8kLkLNqk4Z",
        "outputId": "fbde59cc-99f3-40f6-e83c-ec262c6a5e2e"
      },
      "execution_count": 31,
      "outputs": [
        {
          "output_type": "stream",
          "name": "stdout",
          "text": [
            "1\n",
            "2\n",
            "Breaking the loop!\n",
            "4\n",
            "5\n",
            "Loop completed successfully!\n"
          ]
        }
      ]
    },
    {
      "cell_type": "code",
      "source": [
        "count: int = 1\n",
        "while count <= 1:\n",
        "    print(count)\n",
        "    count += 1"
      ],
      "metadata": {
        "colab": {
          "base_uri": "https://localhost:8080/"
        },
        "id": "wJOrERhIrncC",
        "outputId": "fa9b1753-4b83-4291-f90d-2ffdb91348a4"
      },
      "execution_count": 33,
      "outputs": [
        {
          "output_type": "stream",
          "name": "stdout",
          "text": [
            "1\n"
          ]
        }
      ]
    },
    {
      "cell_type": "code",
      "source": [
        "# Print numbers from 1 to 5 yeh us wqt tk chalta hy jb k true nahi ho jati\n",
        "count: int = 1\n",
        "while count <= 5:\n",
        "    print(count)\n",
        "    count += 1"
      ],
      "metadata": {
        "colab": {
          "base_uri": "https://localhost:8080/"
        },
        "id": "S_86YXnCrkvd",
        "outputId": "a8678efa-65f7-4e05-fe91-cf7b033f6009"
      },
      "execution_count": 32,
      "outputs": [
        {
          "output_type": "stream",
          "name": "stdout",
          "text": [
            "1\n",
            "2\n",
            "3\n",
            "4\n",
            "5\n"
          ]
        }
      ]
    },
    {
      "cell_type": "code",
      "source": [
        "#Lesson 06: Lists, Tuples & Dictionary\n",
        "# STEP 2 PART\n",
        "# Creating lists with different data types\n",
        "fruits: list  = [\"apple\", \"banana\", \"cherry\"]\n",
        "numbers: list = [10, 20, 30, 40]\n",
        "mixed: list   = [\"hello\", 42, 3.14, True]\n",
        "\n",
        "print(\"fruits  = \", fruits)\n",
        "print(\"numbers = \", numbers)\n",
        "print(\"mixed   = \", mixed)\n"
      ],
      "metadata": {
        "colab": {
          "base_uri": "https://localhost:8080/"
        },
        "id": "z996MEW-tkK5",
        "outputId": "9821a013-2eb6-4670-e53a-b6ad09660dbb"
      },
      "execution_count": 35,
      "outputs": [
        {
          "output_type": "stream",
          "name": "stdout",
          "text": [
            "fruits  =  ['apple', 'banana', 'cherry']\n",
            "numbers =  [10, 20, 30, 40]\n",
            "mixed   =  ['hello', 42, 3.14, True]\n"
          ]
        }
      ]
    },
    {
      "cell_type": "code",
      "source": [
        " # unsorted list\n",
        "numbers: list[int] = [3, 1, 4, 1, 5, 9]\n",
        "numbers.sort()\n",
        "print(numbers)"
      ],
      "metadata": {
        "colab": {
          "base_uri": "https://localhost:8080/"
        },
        "id": "82ZV3m9zvBwd",
        "outputId": "4c13c9b0-cb3d-409d-d0c2-2b4b436495d0"
      },
      "execution_count": 36,
      "outputs": [
        {
          "output_type": "stream",
          "name": "stdout",
          "text": [
            "[1, 1, 3, 4, 5, 9]\n"
          ]
        }
      ]
    },
    {
      "cell_type": "code",
      "source": [
        "# Without if condition\n",
        "squared: list = [x**2 for x in [1, 2, 3, 4, 5] ] #  if x > 3 place this if condition and see\n",
        "print(squared, \" : \", type(squared))"
      ],
      "metadata": {
        "colab": {
          "base_uri": "https://localhost:8080/"
        },
        "id": "k1oA3Y89vff0",
        "outputId": "3e73e87b-cf70-49e7-99d7-a8e84a977a3d"
      },
      "execution_count": 37,
      "outputs": [
        {
          "output_type": "stream",
          "name": "stdout",
          "text": [
            "[1, 4, 9, 16, 25]  :  <class 'list'>\n"
          ]
        }
      ]
    },
    {
      "cell_type": "code",
      "source": [
        "# modifying list\n",
        "fruits: list = [\"apple\", \"banana\", \"cherry\"]\n",
        "fruits[-3] = \"watermelon\" #\n",
        "print(fruits)"
      ],
      "metadata": {
        "colab": {
          "base_uri": "https://localhost:8080/"
        },
        "id": "az_rJPek891w",
        "outputId": "ffdc5788-52b4-4603-a7da-01369a1d0b2c"
      },
      "execution_count": 38,
      "outputs": [
        {
          "output_type": "stream",
          "name": "stdout",
          "text": [
            "['watermelon', 'banana', 'cherry']\n"
          ]
        }
      ]
    }
  ]
}