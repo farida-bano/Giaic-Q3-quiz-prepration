{
  "nbformat": 4,
  "nbformat_minor": 0,
  "metadata": {
    "colab": {
      "provenance": [],
      "authorship_tag": "ABX9TyP1zCTUVKmwtE9dr2CsKG3C",
      "include_colab_link": true
    },
    "kernelspec": {
      "name": "python3",
      "display_name": "Python 3"
    },
    "language_info": {
      "name": "python"
    }
  },
  "cells": [
    {
      "cell_type": "markdown",
      "metadata": {
        "id": "view-in-github",
        "colab_type": "text"
      },
      "source": [
        "<a href=\"https://colab.research.google.com/github/farida-bano/Giaic-Q3-quiz-prepration/blob/main/9step.ipynb\" target=\"_parent\"><img src=\"https://colab.research.google.com/assets/colab-badge.svg\" alt=\"Open In Colab\"/></a>"
      ]
    },
    {
      "cell_type": "code",
      "execution_count": 2,
      "metadata": {
        "colab": {
          "base_uri": "https://localhost:8080/"
        },
        "id": "3KrdKmbnM25e",
        "outputId": "9aaafd2c-8e3d-48d0-e684-4aafe8a5d1da"
      },
      "outputs": [
        {
          "output_type": "stream",
          "name": "stdout",
          "text": [
            "hHm\n"
          ]
        }
      ],
      "source": [
        "x = \"Code With Hamza\"\n",
        "print(x[8:14:2])"
      ]
    },
    {
      "cell_type": "code",
      "source": [
        "def modify_value(x):\n",
        "    x = 10\n",
        "    print(\"within function:\", x)\n",
        "\n",
        "x = 5\n",
        "modify_value(x)\n",
        "print(\"after function:\", x)\n"
      ],
      "metadata": {
        "colab": {
          "base_uri": "https://localhost:8080/"
        },
        "id": "IUl_nmfQpuYH",
        "outputId": "5d9452fa-76d0-4727-d29e-3dc417bfdf18"
      },
      "execution_count": 3,
      "outputs": [
        {
          "output_type": "stream",
          "name": "stdout",
          "text": [
            "within function: 10\n",
            "after function: 5\n"
          ]
        }
      ]
    },
    {
      "cell_type": "code",
      "source": [
        "def add(x,y=10):\n",
        "  return x+y\n",
        "print(add(5))\n",
        "print(add(5,3))\n",
        "print(add(15,13))"
      ],
      "metadata": {
        "colab": {
          "base_uri": "https://localhost:8080/"
        },
        "id": "bA-xYanTtrqz",
        "outputId": "7ce8f61d-db07-4f84-bad9-57240b7bf80a"
      },
      "execution_count": 5,
      "outputs": [
        {
          "output_type": "stream",
          "name": "stdout",
          "text": [
            "15\n",
            "8\n",
            "28\n"
          ]
        }
      ]
    },
    {
      "cell_type": "code",
      "source": [
        "def greeting(name):\n",
        "  return \"Hello\" + name\n",
        "\n",
        "result= greeting(\"Hamzah\")\n",
        "print(result)"
      ],
      "metadata": {
        "colab": {
          "base_uri": "https://localhost:8080/"
        },
        "id": "WNGZ_QuUva89",
        "outputId": "a5ab437d-b8bd-4b34-e5de-306454d9bf45"
      },
      "execution_count": 6,
      "outputs": [
        {
          "output_type": "stream",
          "name": "stdout",
          "text": [
            "HelloHamzah\n"
          ]
        }
      ]
    },
    {
      "cell_type": "code",
      "source": [
        "def print_message():\n",
        "    print(\"this is a message\")\n",
        "\n",
        "print_message()  # Call the function once\n"
      ],
      "metadata": {
        "colab": {
          "base_uri": "https://localhost:8080/"
        },
        "id": "36_2ZEcGx3uT",
        "outputId": "383af9e9-9d89-4989-fe97-aa9988860614"
      },
      "execution_count": 9,
      "outputs": [
        {
          "output_type": "stream",
          "name": "stdout",
          "text": [
            "this is a message\n"
          ]
        }
      ]
    },
    {
      "cell_type": "code",
      "source": [
        "# Arbitrary/varibale lenaght arguments *args  postinal argument yeh tuple  and ** kwargs  key,value yeh dictionary main\n",
        "#*args\n",
        "def add_numbers(*args):\n",
        "    total = 0\n",
        "    for num in args:\n",
        "        total += num\n",
        "    return total\n",
        "\n",
        "print(add_numbers(2, 3, 5))      # Output: 10\n",
        "print(add_numbers(1, 4))         # Output: 5"
      ],
      "metadata": {
        "colab": {
          "base_uri": "https://localhost:8080/"
        },
        "id": "8zoehFKd7WoW",
        "outputId": "cdc9d447-d5d9-4c9c-92be-8202f5c353cb"
      },
      "execution_count": 11,
      "outputs": [
        {
          "output_type": "stream",
          "name": "stdout",
          "text": [
            "10\n",
            "5\n"
          ]
        }
      ]
    },
    {
      "cell_type": "code",
      "source": [
        "#**kwargs\n",
        "def print_info(**kwargs):\n",
        "    for key, value in kwargs.items():\n",
        "        print(f\"{key}: {value}\")\n",
        "\n",
        "print_info(name=\"Ali\", age=25, city=\"Lahore\")\n"
      ],
      "metadata": {
        "colab": {
          "base_uri": "https://localhost:8080/"
        },
        "id": "zGc_iM_s7wQ_",
        "outputId": "99e3fcd7-3161-439b-ecab-38612a1f0efe"
      },
      "execution_count": 12,
      "outputs": [
        {
          "output_type": "stream",
          "name": "stdout",
          "text": [
            "name: Ali\n",
            "age: 25\n",
            "city: Lahore\n"
          ]
        }
      ]
    },
    {
      "cell_type": "code",
      "source": [
        "def display_info(name, age):\n",
        "    print(\"Name:\", name)\n",
        "    print(\"Age:\", age)\n",
        "\n",
        "display_info(age=30, name=\"Ali\")\n"
      ],
      "metadata": {
        "colab": {
          "base_uri": "https://localhost:8080/"
        },
        "id": "tpIlIl2e9E5h",
        "outputId": "1a3ea646-e4d9-4ea0-8992-cc434d0c4fa0"
      },
      "execution_count": 16,
      "outputs": [
        {
          "output_type": "stream",
          "name": "stdout",
          "text": [
            "Name: Ali\n",
            "Age: 30\n"
          ]
        }
      ]
    },
    {
      "cell_type": "code",
      "source": [
        "# *star sign\n",
        "# List unpacking in Python\n",
        "a, b, *rest = [1, 2, 3, 4]\n",
        "\n",
        "# Displaying the results\n",
        "print(\"a =\", a)\n",
        "print(\"b =\", b)\n",
        "print(\"rest =\", rest)"
      ],
      "metadata": {
        "colab": {
          "base_uri": "https://localhost:8080/"
        },
        "id": "llodp28JAgAa",
        "outputId": "ba9b35af-f290-4731-e976-0f3fecbb512e"
      },
      "execution_count": 20,
      "outputs": [
        {
          "output_type": "stream",
          "name": "stdout",
          "text": [
            "a = 1\n",
            "b = 2\n",
            "rest = [3, 4]\n"
          ]
        }
      ]
    }
  ]
}