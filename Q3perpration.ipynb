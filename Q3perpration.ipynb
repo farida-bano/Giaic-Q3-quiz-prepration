{
  "nbformat": 4,
  "nbformat_minor": 0,
  "metadata": {
    "colab": {
      "provenance": [],
      "authorship_tag": "ABX9TyMhr8rR/k7L6Ur6u/JZPPRd",
      "include_colab_link": true
    },
    "kernelspec": {
      "name": "python3",
      "display_name": "Python 3"
    },
    "language_info": {
      "name": "python"
    }
  },
  "cells": [
    {
      "cell_type": "markdown",
      "metadata": {
        "id": "view-in-github",
        "colab_type": "text"
      },
      "source": [
        "<a href=\"https://colab.research.google.com/github/farida-bano/Giaic-Q3-quiz-prepration/blob/main/Q3perpration.ipynb\" target=\"_parent\"><img src=\"https://colab.research.google.com/assets/colab-badge.svg\" alt=\"Open In Colab\"/></a>"
      ]
    },
    {
      "cell_type": "code",
      "execution_count": null,
      "metadata": {
        "colab": {
          "base_uri": "https://localhost:8080/",
          "height": 126
        },
        "id": "LqmicSxWzMBl",
        "outputId": "56bc855b-f1a5-4d4a-e9ec-73221223a353"
      },
      "outputs": [
        {
          "output_type": "error",
          "ename": "SyntaxError",
          "evalue": "(unicode error) 'unicodeescape' codec can't decode bytes in position 2-3: truncated \\UXXXXXXXX escape (<ipython-input-2-ba107d270a23>, line 2)",
          "traceback": [
            "\u001b[0;36m  File \u001b[0;32m\"<ipython-input-2-ba107d270a23>\"\u001b[0;36m, line \u001b[0;32m2\u001b[0m\n\u001b[0;31m    path =\"c:\\Users\\Name\"\u001b[0m\n\u001b[0m                         ^\u001b[0m\n\u001b[0;31mSyntaxError\u001b[0m\u001b[0;31m:\u001b[0m (unicode error) 'unicodeescape' codec can't decode bytes in position 2-3: truncated \\UXXXXXXXX escape\n"
          ]
        }
      ],
      "source": [
        "# string in python /Raw string kia hy?\n",
        "path = \"c:\\Users\\Name\"\n",
        "print(path)\n",
        "\n"
      ]
    },
    {
      "cell_type": "code",
      "source": [
        "path =r\"c:\\Users\\Name\"\n",
        "print(path)"
      ],
      "metadata": {
        "colab": {
          "base_uri": "https://localhost:8080/"
        },
        "id": "tsECGNBC03xE",
        "outputId": "daee0742-4dd1-4bd9-d869-82cdb2ebd8e1"
      },
      "execution_count": null,
      "outputs": [
        {
          "output_type": "stream",
          "name": "stdout",
          "text": [
            "c:\\Users\\Name\n"
          ]
        }
      ]
    },
    {
      "cell_type": "code",
      "source": [
        "path = \"hello\\nworld\"\n",
        "print(path)\n"
      ],
      "metadata": {
        "colab": {
          "base_uri": "https://localhost:8080/"
        },
        "id": "xWlLsCX3zdAJ",
        "outputId": "d9c0c451-3102-470e-fbbd-eb1c25fa6f70"
      },
      "execution_count": null,
      "outputs": [
        {
          "output_type": "stream",
          "name": "stdout",
          "text": [
            "hello\n",
            "world\n"
          ]
        }
      ]
    },
    {
      "cell_type": "code",
      "source": [
        "path = r\"hello\\nworld\"\n",
        "print(path)\n"
      ],
      "metadata": {
        "colab": {
          "base_uri": "https://localhost:8080/"
        },
        "id": "IV_dkza41V1S",
        "outputId": "a7d3e326-667c-4f55-b9e0-a7f5c4e5e73a"
      },
      "execution_count": null,
      "outputs": [
        {
          "output_type": "stream",
          "name": "stdout",
          "text": [
            "hello\\nworld\n"
          ]
        }
      ]
    },
    {
      "cell_type": "code",
      "source": [
        "path = \"hello\\n\\tworld\"\n",
        "print(path)"
      ],
      "metadata": {
        "colab": {
          "base_uri": "https://localhost:8080/"
        },
        "id": "j2nWmsWv1Qdy",
        "outputId": "1252c0c7-3e0e-48b1-f12e-086473c2a9b1"
      },
      "execution_count": null,
      "outputs": [
        {
          "output_type": "stream",
          "name": "stdout",
          "text": [
            "hello\n",
            "\tworld\n"
          ]
        }
      ]
    },
    {
      "cell_type": "code",
      "source": [
        "print(\"Helllo,  \\bWorld!\") #backspace\n",
        "print(\"Hello,\\tWorld\")#tab space\n",
        "print(\"Hello, \\\"World!\\\"\")\n",
        "print(\"Hello,\\nWorld!\")\n",
        "print(\"\\\"World!\\\"\")"
      ],
      "metadata": {
        "colab": {
          "base_uri": "https://localhost:8080/"
        },
        "id": "Al_uxPr01bWd",
        "outputId": "bfc9bb4d-a532-49dd-de60-b055c9cd5d51"
      },
      "execution_count": null,
      "outputs": [
        {
          "output_type": "stream",
          "name": "stdout",
          "text": [
            "Helllo,  \bWorld!\n",
            "Hello,\tWorld\n",
            "Hello, \"World!\"\n",
            "Hello,\n",
            "World!\n",
            "\"World!\"\n"
          ]
        }
      ]
    },
    {
      "cell_type": "code",
      "source": [
        "#unicode /number k through hum character\n",
        "print(r\"\\u0041 = \", \"\\u0041\")\n",
        "print(r\"\\u0042 = \", \"\\u0042\")\n",
        "print(r\"\\u0043 = \", \"\\u0043\")\n",
        "print(\"\\u0047 = \", \"\\u0047\")\n",
        "print(\"\\u0049 = \", \"\\u0049\")\n"
      ],
      "metadata": {
        "colab": {
          "base_uri": "https://localhost:8080/"
        },
        "id": "eo9-WSQV359z",
        "outputId": "e681ee70-74a6-4e4f-feb4-9665666b78ad"
      },
      "execution_count": null,
      "outputs": [
        {
          "output_type": "stream",
          "name": "stdout",
          "text": [
            "\\u0041 =  A\n",
            "\\u0042 =  B\n",
            "\\u0043 =  C\n",
            "G =  G\n",
            "I =  I\n"
          ]
        }
      ]
    },
    {
      "cell_type": "code",
      "source": [
        "print(r\"\\u0061 = \", \"\\u0061\")\n",
        "print(r\"\\u0062 = \", \"\\u0062\")\n",
        "print(r\"\\u0063 = \", \"\\u0063\")"
      ],
      "metadata": {
        "colab": {
          "base_uri": "https://localhost:8080/"
        },
        "id": "jkO1ZmRp59gK",
        "outputId": "6d62f99a-ed26-48d7-b097-6da0b03c1d23"
      },
      "execution_count": null,
      "outputs": [
        {
          "output_type": "stream",
          "name": "stdout",
          "text": [
            "\\u0061 =  a\n",
            "\\u0062 =  b\n",
            "\\u0063 =  c\n"
          ]
        }
      ]
    },
    {
      "cell_type": "code",
      "source": [
        "a =\" my name\"\n",
        "b =\"is farida.\"\n",
        "print(a+b)"
      ],
      "metadata": {
        "colab": {
          "base_uri": "https://localhost:8080/"
        },
        "id": "h6IFqZY28Ohn",
        "outputId": "9dec7593-e13f-46e4-df2c-19a2d840e0b7"
      },
      "execution_count": null,
      "outputs": [
        {
          "output_type": "stream",
          "name": "stdout",
          "text": [
            " my nameis farida.\n"
          ]
        }
      ]
    },
    {
      "cell_type": "code",
      "source": [
        "# indexing\n",
        "my_string =\"hello, world\"\n",
        "print(my_string[7])"
      ],
      "metadata": {
        "id": "gEYrzeej8GqO"
      },
      "execution_count": null,
      "outputs": []
    },
    {
      "cell_type": "code",
      "source": [
        "my_string =\"hello, world\"\n",
        "print(my_string[7:])"
      ],
      "metadata": {
        "id": "E1N6T9gY9Fia"
      },
      "execution_count": null,
      "outputs": []
    },
    {
      "cell_type": "code",
      "source": [
        "#start,stop and step\n",
        "my_string = \"hello, world!\"\n",
        "print(my_string[7:12]) #0,1,2,3,4,5,6,7,8,9,10,11,12\n",
        "print(my_string[7:])# ager  ending point na dain tu"
      ],
      "metadata": {
        "colab": {
          "base_uri": "https://localhost:8080/"
        },
        "id": "UqATccfeia41",
        "outputId": "356d4c94-ecda-4134-cceb-894b19378606"
      },
      "execution_count": 3,
      "outputs": [
        {
          "output_type": "stream",
          "name": "stdout",
          "text": [
            "world\n",
            "world!\n"
          ]
        }
      ]
    },
    {
      "cell_type": "code",
      "source": [
        "my_string = \"hello, world!\"\n",
        "print(my_string[0:7])"
      ],
      "metadata": {
        "colab": {
          "base_uri": "https://localhost:8080/"
        },
        "id": "BuyooQNKlbQv",
        "outputId": "e9b14eb2-c17e-4dd1-b09c-d42f246938a4"
      },
      "execution_count": 6,
      "outputs": [
        {
          "output_type": "stream",
          "name": "stdout",
          "text": [
            "hello, \n"
          ]
        }
      ]
    },
    {
      "cell_type": "code",
      "source": [
        "print(my_string.upper()) #Upper Case\n",
        "print(my_string.lower()) #Lower Case"
      ],
      "metadata": {
        "id": "HkKMWFwAmwLn"
      },
      "execution_count": null,
      "outputs": []
    },
    {
      "cell_type": "code",
      "source": [
        "my_string: str = 'Hello! World'\n",
        "print(my_string.split())\n",
        "\n"
      ],
      "metadata": {
        "colab": {
          "base_uri": "https://localhost:8080/"
        },
        "id": "4pZ0M8jHleGG",
        "outputId": "ada6d358-fc4b-4ddb-f5a7-fc831388ac36"
      },
      "execution_count": 9,
      "outputs": [
        {
          "output_type": "stream",
          "name": "stdout",
          "text": [
            "['Hello!', 'World']\n"
          ]
        }
      ]
    },
    {
      "cell_type": "code",
      "source": [],
      "metadata": {
        "id": "J9SMol2OoWdt"
      },
      "execution_count": null,
      "outputs": []
    },
    {
      "cell_type": "code",
      "source": [
        "my_string:str = \"Hello! World\"\n",
        "print(my_string.split(\"o\"))"
      ],
      "metadata": {
        "colab": {
          "base_uri": "https://localhost:8080/"
        },
        "id": "NqByBJ0uneKT",
        "outputId": "823565f2-2827-45a4-f32c-23800d49a416"
      },
      "execution_count": 12,
      "outputs": [
        {
          "output_type": "stream",
          "name": "stdout",
          "text": [
            "['Hell', '! W', 'rld']\n"
          ]
        }
      ]
    },
    {
      "cell_type": "code",
      "source": [
        "words = my_string.split(\"l\") # Splitting using 'l' as the delimiter\n",
        "print('my_string.split(\"l\") = ', words)"
      ],
      "metadata": {
        "colab": {
          "base_uri": "https://localhost:8080/"
        },
        "id": "aEmj7r4Lnh1s",
        "outputId": "543d0caf-dba3-4832-df20-f6c034dff311"
      },
      "execution_count": 13,
      "outputs": [
        {
          "output_type": "stream",
          "name": "stdout",
          "text": [
            "my_string.split(\"l\") =  ['He', '', 'o! Wor', 'd']\n"
          ]
        }
      ]
    },
    {
      "cell_type": "code",
      "source": [
        "my_data =\"apple, banana, cherry\"\n",
        "print(my_data.split(\",\"))# 3 ko tor du"
      ],
      "metadata": {
        "colab": {
          "base_uri": "https://localhost:8080/"
        },
        "id": "YpUAMgQvoiYg",
        "outputId": "6085ebbb-5eef-4435-931e-353b1962dea2"
      },
      "execution_count": 15,
      "outputs": [
        {
          "output_type": "stream",
          "name": "stdout",
          "text": [
            "['apple', ' banana', ' cherry']\n"
          ]
        }
      ]
    },
    {
      "cell_type": "code",
      "source": [
        "words= [\"hello\",\"world\"]# space\n",
        "print(\" \".join(words))\n",
        "print(\",\".join(words))\n",
        "print(\"- - -\".join(words))\n",
        "print(\"\".join(words))"
      ],
      "metadata": {
        "colab": {
          "base_uri": "https://localhost:8080/"
        },
        "id": "j-a9OydVqH5j",
        "outputId": "ba53e184-7cd0-4d79-874c-f35b7f9d0284"
      },
      "execution_count": 20,
      "outputs": [
        {
          "output_type": "stream",
          "name": "stdout",
          "text": [
            "hello world\n",
            "hello,world\n",
            "hello- - -world\n",
            "helloworld\n"
          ]
        }
      ]
    },
    {
      "cell_type": "code",
      "source": [
        "my_string =[\"Pakistan\"]\n",
        "print(\",\".join(\"Pakistan\"))"
      ],
      "metadata": {
        "colab": {
          "base_uri": "https://localhost:8080/"
        },
        "id": "itbM1GU-r9N3",
        "outputId": "77eed4d2-8dd9-4547-878a-9fdf82222521"
      },
      "execution_count": 22,
      "outputs": [
        {
          "output_type": "stream",
          "name": "stdout",
          "text": [
            "P,a,k,i,s,t,a,n\n"
          ]
        }
      ]
    },
    {
      "cell_type": "code",
      "source": [
        "my_string =[\"Pakistan\",\"USA\",\"Oman\"]\n",
        "print(\",\".join(\"Oman\"))"
      ],
      "metadata": {
        "colab": {
          "base_uri": "https://localhost:8080/"
        },
        "id": "-7hPvsUfrodV",
        "outputId": "154f4d2f-faa7-434c-b31b-35dab78bc309"
      },
      "execution_count": 23,
      "outputs": [
        {
          "output_type": "stream",
          "name": "stdout",
          "text": [
            "O,m,a,n\n"
          ]
        }
      ]
    },
    {
      "cell_type": "code",
      "source": [
        "# numbers\n",
        "my_data =[1,2,3,4,5,6]\n",
        "#print(\"-\".join(my_data))#number py nahi lagta\n",
        "numbers_string=[str(fari) for fari in my_data ]#convert in string\n",
        "print(numbers_string)\n",
        "print(\"-\".join(numbers_string))"
      ],
      "metadata": {
        "colab": {
          "base_uri": "https://localhost:8080/"
        },
        "id": "jOSqbSALsthi",
        "outputId": "cf781382-5011-4023-a428-e7ffe19f0c82"
      },
      "execution_count": 25,
      "outputs": [
        {
          "output_type": "stream",
          "name": "stdout",
          "text": [
            "['1', '2', '3', '4', '5', '6']\n",
            "1-2-3-4-5-6\n"
          ]
        }
      ]
    },
    {
      "cell_type": "code",
      "source": [
        "#replace\n",
        "text =\"Hello, World!\"\n",
        "result =text.replace(\"Hello\",\"Hi\")\n",
        "print(text)\n",
        "print(result)# replace ho ga\n",
        "print(text.replace(\"H\" ,\"B\" ))"
      ],
      "metadata": {
        "colab": {
          "base_uri": "https://localhost:8080/"
        },
        "id": "8QQPbDxLv0tE",
        "outputId": "b814a68c-1227-471a-d897-4c2b991f72a8"
      },
      "execution_count": 28,
      "outputs": [
        {
          "output_type": "stream",
          "name": "stdout",
          "text": [
            "Hello, World!\n",
            "Hi, World!\n",
            "Bello, World!\n"
          ]
        }
      ]
    },
    {
      "cell_type": "code",
      "source": [
        "text= \"banana\"\n",
        "print(text.find(\"a\"))\n",
        "print(text.find(\"z\"))"
      ],
      "metadata": {
        "colab": {
          "base_uri": "https://localhost:8080/"
        },
        "id": "aNCHcG0SDIuv",
        "outputId": "3ad8898e-f3c1-46ac-ef4d-8783dd943dfd"
      },
      "execution_count": 38,
      "outputs": [
        {
          "output_type": "stream",
          "name": "stdout",
          "text": [
            "1\n",
            "-1\n"
          ]
        }
      ]
    },
    {
      "cell_type": "code",
      "source": [
        "\n",
        "text =\"Hello World!\"\n",
        "print (text.find(\"H\"))\n",
        "print (text.find(\"W\"))"
      ],
      "metadata": {
        "colab": {
          "base_uri": "https://localhost:8080/"
        },
        "id": "fxfS6-2nDogk",
        "outputId": "1df07a3e-8e79-49f3-f806-63d706d3393f"
      },
      "execution_count": 46,
      "outputs": [
        {
          "output_type": "stream",
          "name": "stdout",
          "text": [
            "0\n",
            "6\n"
          ]
        }
      ]
    },
    {
      "cell_type": "code",
      "source": [
        "text= \"banana\"\n",
        "print(text.count(\"a\"))# coutn kro k a kitni bar hy?"
      ],
      "metadata": {
        "colab": {
          "base_uri": "https://localhost:8080/"
        },
        "id": "3nhGj1V-EIj4",
        "outputId": "f0716d07-facb-49e1-ade1-421a84e30ee6"
      },
      "execution_count": 47,
      "outputs": [
        {
          "output_type": "stream",
          "name": "stdout",
          "text": [
            "3\n"
          ]
        }
      ]
    },
    {
      "cell_type": "code",
      "source": [
        "#if\n",
        "name: str = 'Farida'\n",
        "age: int = 40\n",
        "first_letter: str = name[0]\n",
        "my_weight: float = 70.532000 # 70.536000\n",
        "#print(name , age )\n",
        "#print(name,age,my_weight)"
      ],
      "metadata": {
        "colab": {
          "base_uri": "https://localhost:8080/"
        },
        "id": "YLccv0DVDkwh",
        "outputId": "06f55dfa-26ea-4321-d040-d3cfb270546b"
      },
      "execution_count": 51,
      "outputs": [
        {
          "output_type": "stream",
          "name": "stdout",
          "text": [
            "Farida 40\n",
            "Farida 40 70.532\n"
          ]
        }
      ]
    },
    {
      "cell_type": "code",
      "source": [
        "name: str = 'Farida'\n",
        "age: int = 40\n",
        "first_letter: str = name[0]\n",
        "my_weight: float = 70.532000\n",
        "my_string =\"My name is %s,first letter is %c,i am %d,and my weight is %f kg.\"%(name,first_letter,age,my_weight)\n",
        "print(my_string)\n"
      ],
      "metadata": {
        "colab": {
          "base_uri": "https://localhost:8080/"
        },
        "id": "emrNufRrHECk",
        "outputId": "d32a2b73-5a98-4665-c010-ea94e731591c"
      },
      "execution_count": 56,
      "outputs": [
        {
          "output_type": "stream",
          "name": "stdout",
          "text": [
            "My name is Farida,first letter is F,i am 40,and my weight is 70.532000 kg.\n"
          ]
        }
      ]
    },
    {
      "cell_type": "code",
      "source": [
        "# str.format() yeh operator ka modren method hy\n",
        "my_string: str = 'My name is {} and I am {} years old.'.format(name,age) #order matters\n",
        "print(my_string)"
      ],
      "metadata": {
        "colab": {
          "base_uri": "https://localhost:8080/"
        },
        "id": "TDPJVjhBKleY",
        "outputId": "d5623d47-bf68-4acf-b014-92f992755ef6"
      },
      "execution_count": 58,
      "outputs": [
        {
          "output_type": "stream",
          "name": "stdout",
          "text": [
            "My name is 40 and I am Farida years old.\n"
          ]
        }
      ]
    },
    {
      "cell_type": "code",
      "source": [
        "# str.format() yeh operator ka modren method hy\n",
        "my_string: str = 'My name is {1} and I am {0} years old.'.format(age, name) #index number write krain\n",
        "print(my_string)"
      ],
      "metadata": {
        "colab": {
          "base_uri": "https://localhost:8080/"
        },
        "id": "7rjZwykFLrGB",
        "outputId": "40fa74af-434a-4560-f502-32c02a037bf6"
      },
      "execution_count": 60,
      "outputs": [
        {
          "output_type": "stream",
          "name": "stdout",
          "text": [
            "My name is Farida and I am 40 years old.\n"
          ]
        }
      ]
    },
    {
      "cell_type": "code",
      "source": [
        "# using f-strings\n",
        "my_string: str = f'My name is {name} and I am {age} years old.' #Using Named Placeholders (Best for Readability)\n",
        "print(my_string)"
      ],
      "metadata": {
        "colab": {
          "base_uri": "https://localhost:8080/"
        },
        "id": "AmQPLr-gMHea",
        "outputId": "330ec2cb-f72d-44a0-8c5b-c3eb001eb220"
      },
      "execution_count": 61,
      "outputs": [
        {
          "output_type": "stream",
          "name": "stdout",
          "text": [
            "My name is Farida and I am 40 years old.\n"
          ]
        }
      ]
    },
    {
      "cell_type": "code",
      "source": [
        "# using fr-strings\n",
        "my_string: str = fr'My name is {name} \\n  and I am {age} years old.' #Using Named Placeholders (Best for Readability)\n",
        "print(my_string)"
      ],
      "metadata": {
        "colab": {
          "base_uri": "https://localhost:8080/"
        },
        "id": "m5KIRkcLMjO7",
        "outputId": "df858025-ad62-496c-f058-ecce213e8d21"
      },
      "execution_count": 63,
      "outputs": [
        {
          "output_type": "stream",
          "name": "stdout",
          "text": [
            "My name is Farida \\n  and I am 40 years old.\n"
          ]
        }
      ]
    },
    {
      "cell_type": "code",
      "source": [
        "# string literal VS string pool\n",
        "# pool like aa storage box of string\n",
        "# Interning is a process #  number 256 tk ho ga tu\n",
        "x=\"Farida\" # 20 charactor sy zada na hon\n",
        "print(id(x))\n",
        "y = \"Bano\"\n",
        "print(id(y))\n",
        "z =\"farida\"\n",
        "print(id(z))\n",
        "a=\"Farida\"\n",
        "print(id(a))# variable change hy pr pool main x k nam sy hy, same nam save hy us main tu humain wohi id dy ga\n",
        "\n"
      ],
      "metadata": {
        "colab": {
          "base_uri": "https://localhost:8080/"
        },
        "id": "cEmSzAAfM4Is",
        "outputId": "851ff734-07d4-4faf-b673-8efbf5352c27"
      },
      "execution_count": 67,
      "outputs": [
        {
          "output_type": "stream",
          "name": "stdout",
          "text": [
            "136806942240112\n",
            "136806953899184\n",
            "136806942237296\n",
            "136806942240112\n"
          ]
        }
      ]
    },
    {
      "cell_type": "code",
      "source": [
        "#  number 256 tk ho ga tu # int comman hon.\n",
        "y=100\n",
        "x=100\n",
        "print(id(y))\n",
        "print(id(x))\n",
        "y=257\n",
        "x=257\n",
        "print(id(y))\n",
        "print(id(x))"
      ],
      "metadata": {
        "colab": {
          "base_uri": "https://localhost:8080/"
        },
        "id": "8GjJ5DhITUWx",
        "outputId": "94b06cdb-2791-493a-83d8-166d0ce30b0b"
      },
      "execution_count": 71,
      "outputs": [
        {
          "output_type": "stream",
          "name": "stdout",
          "text": [
            "10754024\n",
            "10754024\n",
            "136806941431408\n",
            "136806941437040\n"
          ]
        }
      ]
    },
    {
      "cell_type": "code",
      "source": [
        "x=1000\n",
        "y=1000\n",
        "print(x is y)\n",
        "print(id(x))\n",
        "print(id(y))"
      ],
      "metadata": {
        "colab": {
          "base_uri": "https://localhost:8080/"
        },
        "id": "Hj4robEHUd-P",
        "outputId": "5a9b85e6-2da8-4113-8c8f-e9ca5f6ea531"
      },
      "execution_count": 74,
      "outputs": [
        {
          "output_type": "stream",
          "name": "stdout",
          "text": [
            "False\n",
            "136806941439504\n",
            "136806941437040\n"
          ]
        }
      ]
    },
    {
      "cell_type": "code",
      "source": [
        "a= \"pakistan zindabad inshaALLAH\"\n",
        "b= \"pakistan zindabad inshaALLAH\"\n",
        "print(id(a))\n",
        "print(id(b))\n",
        "print( a is b)"
      ],
      "metadata": {
        "colab": {
          "base_uri": "https://localhost:8080/"
        },
        "id": "u_pFlev4VIZT",
        "outputId": "6aa53923-70f0-4f3f-9aa7-8d3c6b633205"
      },
      "execution_count": 77,
      "outputs": [
        {
          "output_type": "stream",
          "name": "stdout",
          "text": [
            "136806942396768\n",
            "136806940578224\n",
            "False\n"
          ]
        }
      ]
    },
    {
      "cell_type": "code",
      "source": [
        "# concatnation main nahi hoti intrning\n",
        "a=\"hel\"\n",
        "b=\"loo\"\n",
        "z= a+b# ye false ho ga tu interning nahi ho gi\n",
        "a=\"heloo\"\n",
        "print(id(a))\n",
        "print(id(b))\n",
        "print(a is b)"
      ],
      "metadata": {
        "colab": {
          "base_uri": "https://localhost:8080/"
        },
        "id": "LUVso_1AUseq",
        "outputId": "8db8bbcd-4850-4c40-f1d3-c6c7a9ab1054"
      },
      "execution_count": 78,
      "outputs": [
        {
          "output_type": "stream",
          "name": "stdout",
          "text": [
            "136806942194224\n",
            "136806953899184\n",
            "False\n"
          ]
        }
      ]
    },
    {
      "cell_type": "code",
      "source": [
        "# without +\n",
        "x =\"booloo\"\n",
        "y = x\n",
        "print(  x is y)\n",
        "print(id(x))\n",
        "print(id(y))"
      ],
      "metadata": {
        "colab": {
          "base_uri": "https://localhost:8080/"
        },
        "id": "KXsvWJ1XYcsy",
        "outputId": "cf12675e-77d2-4b7c-ce7c-cd8ec758e0c9"
      },
      "execution_count": 79,
      "outputs": [
        {
          "output_type": "stream",
          "name": "stdout",
          "text": [
            "True\n",
            "136806953702576\n",
            "136806953702576\n"
          ]
        }
      ]
    },
    {
      "cell_type": "code",
      "source": [
        "#Explicit interning: You can manually intern a string using the sys.intern() function.\n",
        "import sys\n",
        "a = sys.intern(\"hello world!\")\n",
        "b = sys.intern(\"hello world!\")\n",
        "print(a is b)  # True (manually interned)"
      ],
      "metadata": {
        "colab": {
          "base_uri": "https://localhost:8080/"
        },
        "id": "7s1uPlsvZLYy",
        "outputId": "159d31c3-b2d5-4b89-c25b-29602fd9d76e"
      },
      "execution_count": 80,
      "outputs": [
        {
          "output_type": "stream",
          "name": "stdout",
          "text": [
            "True\n"
          ]
        }
      ]
    },
    {
      "cell_type": "code",
      "source": [
        "#String Repetition\n",
        "x = \"farida\"\n",
        "print(x * 10)"
      ],
      "metadata": {
        "colab": {
          "base_uri": "https://localhost:8080/"
        },
        "id": "FwQL7C_HaS2s",
        "outputId": "673e7991-5536-4c22-a728-07dd26b227dc"
      },
      "execution_count": 81,
      "outputs": [
        {
          "output_type": "stream",
          "name": "stdout",
          "text": [
            "faridafaridafaridafaridafaridafaridafaridafaridafaridafarida\n"
          ]
        }
      ]
    },
    {
      "cell_type": "code",
      "source": [
        "# Define two strings\n",
        "str1 = \"apple\"\n",
        "str2 = \"banana\"\n",
        "\n",
        "print(\"str1 == str2 = \",str1 == str2)  # False (because \"apple\" is not equal to \"banana\")\n",
        "print(\"str1 != str2 = \",str1 != str2)  # True  (because \"apple\" is different from \"banana\")\n",
        "print(\"str1 > str2  = \", str1 > str2)   # False (because \"apple\" comes before \"banana\" in dictionary order)\n",
        "print(\"str1 < str2  = \", str1 < str2)"
      ],
      "metadata": {
        "colab": {
          "base_uri": "https://localhost:8080/"
        },
        "id": "cGpIHkxua_CJ",
        "outputId": "f507fc2f-4702-4554-d5bf-7b00ce7d9d8f"
      },
      "execution_count": 82,
      "outputs": [
        {
          "output_type": "stream",
          "name": "stdout",
          "text": [
            "str1 == str2 =  False\n",
            "str1 != str2 =  True\n",
            "str1 > str2  =  False\n",
            "str1 < str2  =  True\n"
          ]
        }
      ]
    },
    {
      "cell_type": "code",
      "source": [
        "print('\"Apple\" > \"apple\"   = ', \"Apple\" > \"apple\")  # False ('A' has a smaller Unicode value than 'a')\n",
        "print('\"apple\" == \"APPLE\") = ', \"apple\" == \"APPLE\") # False (case-sensitive)\n",
        "print('\"abc\" < \"abd\"       = ', \"abc\" < \"abd\")"
      ],
      "metadata": {
        "colab": {
          "base_uri": "https://localhost:8080/"
        },
        "id": "V-g5WFnIbCew",
        "outputId": "93b3e2dd-7283-4581-8b77-b9a3f3d65d05"
      },
      "execution_count": 83,
      "outputs": [
        {
          "output_type": "stream",
          "name": "stdout",
          "text": [
            "\"Apple\" > \"apple\"   =  False\n",
            "\"apple\" == \"APPLE\") =  False\n",
            "\"abc\" < \"abd\"       =  True\n"
          ]
        }
      ]
    }
  ]
}