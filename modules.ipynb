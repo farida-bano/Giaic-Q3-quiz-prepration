{
  "cells": [
    {
      "cell_type": "markdown",
      "metadata": {
        "id": "view-in-github",
        "colab_type": "text"
      },
      "source": [
        "<a href=\"https://colab.research.google.com/github/farida-bano/Giaic-Q3-quiz-prepration/blob/main/modules.ipynb\" target=\"_parent\"><img src=\"https://colab.research.google.com/assets/colab-badge.svg\" alt=\"Open In Colab\"/></a>"
      ]
    },
    {
      "cell_type": "code",
      "execution_count": null,
      "metadata": {
        "colab": {
          "base_uri": "https://localhost:8080/"
        },
        "id": "wjDsH90P-nwt",
        "outputId": "117602b2-f401-4b26-ef3c-d36bbc28be1f"
      },
      "outputs": [
        {
          "name": "stdout",
          "output_type": "stream",
          "text": [
            "2.6457513110645907\n"
          ]
        }
      ],
      "source": [
        "import math\n",
        "print(math.sqrt(7))"
      ]
    },
    {
      "cell_type": "code",
      "execution_count": null,
      "metadata": {
        "colab": {
          "base_uri": "https://localhost:8080/"
        },
        "id": "7af1Pp8WI7UG",
        "outputId": "06b84301-1955-4cfc-f4ae-ec0f098b96be"
      },
      "outputs": [
        {
          "name": "stdout",
          "output_type": "stream",
          "text": [
            "3.141592653589793\n"
          ]
        }
      ],
      "source": [
        "import math\n",
        "print(math.pi)"
      ]
    },
    {
      "cell_type": "code",
      "execution_count": null,
      "metadata": {
        "colab": {
          "base_uri": "https://localhost:8080/"
        },
        "id": "ibFGJ4UBJFBb",
        "outputId": "6f2033b2-ab92-4a9e-aa0d-83566e2aa0a3"
      },
      "outputs": [
        {
          "name": "stdout",
          "output_type": "stream",
          "text": [
            "[1 2 3]\n"
          ]
        }
      ],
      "source": [
        "import numpy as np\n",
        "print(np.array([1, 2, 3]))"
      ]
    },
    {
      "cell_type": "code",
      "execution_count": null,
      "metadata": {
        "colab": {
          "base_uri": "https://localhost:8080/"
        },
        "id": "7jp7WXVyJTXr",
        "outputId": "f179af57-d189-4ad5-c3ee-5a988dc07605"
      },
      "outputs": [
        {
          "name": "stdout",
          "output_type": "stream",
          "text": [
            "4.0\n",
            "3.141592653589793\n"
          ]
        }
      ],
      "source": [
        "from math import sqrt as s, pi as p\n",
        "\n",
        "print(s(16))\n",
        "print(p )"
      ]
    },
    {
      "cell_type": "code",
      "execution_count": null,
      "metadata": {
        "colab": {
          "base_uri": "https://localhost:8080/"
        },
        "id": "pt8B9VNVJows",
        "outputId": "594f34f0-fb2c-4efd-874f-3e63dd4aeef6"
      },
      "outputs": [
        {
          "name": "stdout",
          "output_type": "stream",
          "text": [
            "200\n"
          ]
        }
      ],
      "source": [
        "import requests\n",
        "response = requests.get(\"https://www.example.com\")\n",
        "print(response.status_code)"
      ]
    },
    {
      "cell_type": "code",
      "execution_count": null,
      "metadata": {
        "colab": {
          "base_uri": "https://localhost:8080/"
        },
        "id": "k-bhITD7CZe9",
        "outputId": "06e7ceaf-b91c-4f82-f6db-5dd4954cb76b"
      },
      "outputs": [
        {
          "name": "stdout",
          "output_type": "stream",
          "text": [
            "4.0\n",
            "3.141592653589793\n"
          ]
        }
      ],
      "source": [
        "from math import sqrt, pi\n",
        "print(sqrt(16))  # Output: 4.0\n",
        "print(pi)        # Output: 3.141592653589793"
      ]
    },
    {
      "cell_type": "code",
      "execution_count": null,
      "metadata": {
        "colab": {
          "base_uri": "https://localhost:8080/"
        },
        "id": "UrYgxmtqD12X",
        "outputId": "0e35b423-e46a-4e67-e69d-9ba5ae3862a3"
      },
      "outputs": [
        {
          "name": "stdout",
          "output_type": "stream",
          "text": [
            "4.0\n",
            "3.141592653589793\n"
          ]
        }
      ],
      "source": [
        "import math\n",
        "print(math.sqrt(16))  # Output: 4.0\n",
        "print(math.pi)"
      ]
    },
    {
      "cell_type": "code",
      "execution_count": null,
      "metadata": {
        "colab": {
          "base_uri": "https://localhost:8080/"
        },
        "id": "SsvlUWS4EEXD",
        "outputId": "74b72042-4032-492d-df85-fe90624f7f03"
      },
      "outputs": [
        {
          "name": "stdout",
          "output_type": "stream",
          "text": [
            "4.0\n",
            "3.141592653589793\n"
          ]
        }
      ],
      "source": [
        "from math import sqrt, pi\n",
        "print(sqrt(16))  # Output: 4.0\n",
        "print(pi)"
      ]
    },
    {
      "cell_type": "code",
      "execution_count": null,
      "metadata": {
        "colab": {
          "base_uri": "https://localhost:8080/"
        },
        "id": "ulEUX9SXaSSX",
        "outputId": "8917ebf2-b19d-4b54-c694-25eb97dab6e7"
      },
      "outputs": [
        {
          "name": "stdout",
          "output_type": "stream",
          "text": [
            "5\n"
          ]
        }
      ],
      "source": [
        "def countdown(n):\n",
        "    if n == 0:  # base case\n",
        "        print(\"done!\")\n",
        "    else:  # recursive case\n",
        "        print(n)#yahan 5 aay ga\n",
        "        #countdown(n - 1)\n",
        "countdown(5)\n"
      ]
    },
    {
      "cell_type": "code",
      "execution_count": null,
      "metadata": {
        "colab": {
          "base_uri": "https://localhost:8080/"
        },
        "id": "AFt52oT4bkVt",
        "outputId": "2bba0350-69d9-44c1-f7d8-1f8ee7c9a30b"
      },
      "outputs": [
        {
          "name": "stdout",
          "output_type": "stream",
          "text": [
            "5\n",
            "4\n",
            "3\n",
            "2\n",
            "1\n",
            "done!\n"
          ]
        }
      ],
      "source": [
        "def countdown(n):\n",
        "    if n == 0:  # base case\n",
        "        print(\"done!\")\n",
        "    else:  # recursive case\n",
        "        print(n)\n",
        "        countdown(n - 1)# hr bar n-1 krty jao\n",
        "countdown(5)\n"
      ]
    },
    {
      "cell_type": "code",
      "execution_count": null,
      "metadata": {
        "id": "0ebYSyMscHqm",
        "colab": {
          "base_uri": "https://localhost:8080/"
        },
        "outputId": "c343bc28-897d-4228-db6f-7397f33a8b31"
      },
      "outputs": [
        {
          "output_type": "stream",
          "name": "stdout",
          "text": [
            "2.5\n"
          ]
        }
      ],
      "source": [
        "x = 5\n",
        "y = 2\n",
        "print(x / y)"
      ]
    },
    {
      "cell_type": "code",
      "source": [
        "x = 3\n",
        "y = 4\n",
        "x, y = y, x\n",
        "print(x, y)"
      ],
      "metadata": {
        "colab": {
          "base_uri": "https://localhost:8080/"
        },
        "id": "ewNa9NOF6i55",
        "outputId": "ceff91e8-f0b5-46b6-ccd6-e7238ef96074"
      },
      "execution_count": null,
      "outputs": [
        {
          "output_type": "stream",
          "name": "stdout",
          "text": [
            "4 3\n"
          ]
        }
      ]
    },
    {
      "cell_type": "code",
      "source": [
        "f = lambda x: x * 2\n",
        "print(f(5))"
      ],
      "metadata": {
        "colab": {
          "base_uri": "https://localhost:8080/"
        },
        "id": "cDsgo-hBj4ZQ",
        "outputId": "a88dc577-5368-4d48-b4bb-505b2c8842b8"
      },
      "execution_count": 4,
      "outputs": [
        {
          "output_type": "stream",
          "name": "stdout",
          "text": [
            "10\n"
          ]
        }
      ]
    },
    {
      "cell_type": "code",
      "source": [
        "nums = [1, 2, 3]\n",
        "result = list(map(lambda x: x ** 2, nums))\n",
        "print(result)"
      ],
      "metadata": {
        "colab": {
          "base_uri": "https://localhost:8080/"
        },
        "id": "ajJETF-khUHj",
        "outputId": "bb42b090-42e3-4056-da58-3293e019ab1b"
      },
      "execution_count": 2,
      "outputs": [
        {
          "output_type": "stream",
          "name": "stdout",
          "text": [
            "[1, 4, 9]\n"
          ]
        }
      ]
    },
    {
      "cell_type": "code",
      "source": [
        "nums = [1, 2, 3, 4]\n",
        "result = list(filter(lambda x: x % 2 == 0, nums))\n",
        "print(result)"
      ],
      "metadata": {
        "colab": {
          "base_uri": "https://localhost:8080/"
        },
        "id": "lU4KB6ZqjqVT",
        "outputId": "a877ec83-e85d-4d6a-d2f5-f750aa45b109"
      },
      "execution_count": 3,
      "outputs": [
        {
          "output_type": "stream",
          "name": "stdout",
          "text": [
            "[2, 4]\n"
          ]
        }
      ]
    },
    {
      "cell_type": "code",
      "source": [
        "def apply_func(func, x):\n",
        "    return func(x)\n",
        "print(apply_func(lambda x: x + 10, 5))"
      ],
      "metadata": {
        "colab": {
          "base_uri": "https://localhost:8080/"
        },
        "id": "sf1kVVwyk5c1",
        "outputId": "39d3a1b1-b548-4201-9a80-126251cfc947"
      },
      "execution_count": 5,
      "outputs": [
        {
          "output_type": "stream",
          "name": "stdout",
          "text": [
            "15\n"
          ]
        }
      ]
    },
    {
      "cell_type": "code",
      "source": [
        "sorted_names = sorted(['Subhan', 'Ali', 'Zain'], key=lambda x: x[-1])\n",
        "print(sorted_names)"
      ],
      "metadata": {
        "colab": {
          "base_uri": "https://localhost:8080/"
        },
        "id": "n3x6q85S8eZr",
        "outputId": "bc193592-03d2-4390-caf1-49d2135f96ad"
      },
      "execution_count": 1,
      "outputs": [
        {
          "output_type": "stream",
          "name": "stdout",
          "text": [
            "['Ali', 'Subhan', 'Zain']\n"
          ]
        }
      ]
    },
    {
      "cell_type": "code",
      "source": [],
      "metadata": {
        "id": "hd2pLSD8_CgE"
      },
      "execution_count": null,
      "outputs": []
    },
    {
      "cell_type": "code",
      "source": [
        "def outer():\n",
        "    x = 10\n",
        "    def inner():\n",
        "        return x\n",
        "    return inner()\n",
        "print(outer())"
      ],
      "metadata": {
        "colab": {
          "base_uri": "https://localhost:8080/"
        },
        "id": "uQD4Kjim9veo",
        "outputId": "bc838f52-66fb-4d11-d2c4-1408b37e0857"
      },
      "execution_count": 2,
      "outputs": [
        {
          "output_type": "stream",
          "name": "stdout",
          "text": [
            "10\n"
          ]
        }
      ]
    },
    {
      "cell_type": "code",
      "source": [
        "def make_multiplier(n):\n",
        "    return lambda x: x * n\n",
        "f = make_multiplier(3)\n",
        "print(f(4))"
      ],
      "metadata": {
        "id": "_Yjwr3IW9xsz"
      },
      "execution_count": null,
      "outputs": []
    },
    {
      "cell_type": "code",
      "source": [
        "def outer():\n",
        "    count = 0\n",
        "    def inner():\n",
        "        nonlocal count\n",
        "        count += 1\n",
        "        return count\n",
        "    return inner\n",
        "f = outer()\n",
        "print(f())"
      ],
      "metadata": {
        "colab": {
          "base_uri": "https://localhost:8080/"
        },
        "id": "p3dtwRF8_DXh",
        "outputId": "83825f29-71d6-4f21-fea7-07610ff4f001"
      },
      "execution_count": 4,
      "outputs": [
        {
          "output_type": "stream",
          "name": "stdout",
          "text": [
            "1\n"
          ]
        }
      ]
    },
    {
      "cell_type": "code",
      "source": [
        "lst = [1, 2, 3, 4]\n",
        "result = list(map(lambda x: x\n",
        "if x % 2 == 0\n",
        "else x * 2, lst))\n",
        "print(result)"
      ],
      "metadata": {
        "colab": {
          "base_uri": "https://localhost:8080/"
        },
        "id": "-k8UY-io_Fw6",
        "outputId": "a85252dc-2d61-4e36-f25b-847f7ffca922"
      },
      "execution_count": 5,
      "outputs": [
        {
          "output_type": "stream",
          "name": "stdout",
          "text": [
            "[2, 2, 6, 4]\n"
          ]
        }
      ]
    },
    {
      "cell_type": "code",
      "source": [
        "from functools import reduce\n",
        "nums = [1, 2, 3]\n",
        "result = reduce(lambda x, y: x + y, nums)\n",
        "print(result)"
      ],
      "metadata": {
        "colab": {
          "base_uri": "https://localhost:8080/"
        },
        "id": "BwP_8wceDAYj",
        "outputId": "54ec1d58-889a-4fc8-f8f2-9d66aed6be95"
      },
      "execution_count": 6,
      "outputs": [
        {
          "output_type": "stream",
          "name": "stdout",
          "text": [
            "6\n"
          ]
        }
      ]
    },
    {
      "cell_type": "code",
      "source": [
        "pairs = [(1, 'one'), (3, 'three'), (2, 'two')]\n",
        "sorted_pairs = sorted(pairs, key=lambda x: x[1])\n",
        "print(sorted_pairs)"
      ],
      "metadata": {
        "colab": {
          "base_uri": "https://localhost:8080/"
        },
        "id": "8ZT6Kj1XHSLj",
        "outputId": "3c652192-9273-4b15-b73a-46c31dd99ee0"
      },
      "execution_count": 7,
      "outputs": [
        {
          "output_type": "stream",
          "name": "stdout",
          "text": [
            "[(1, 'one'), (3, 'three'), (2, 'two')]\n"
          ]
        }
      ]
    },
    {
      "cell_type": "code",
      "source": [
        "def compose(f, g):\n",
        "    return lambda x: f(g(x))\n",
        "f = compose(lambda x: x + 1, lambda x: x * 2)\n",
        "print(f(3))"
      ],
      "metadata": {
        "colab": {
          "base_uri": "https://localhost:8080/"
        },
        "id": "8gJ4zjbUHu5V",
        "outputId": "3c585a06-ba30-47f2-a67c-f67a847c8ebe"
      },
      "execution_count": 8,
      "outputs": [
        {
          "output_type": "stream",
          "name": "stdout",
          "text": [
            "7\n"
          ]
        }
      ]
    },
    {
      "cell_type": "code",
      "source": [
        "class Person:\n",
        "    def __init__(self, name):\n",
        "        self.name = name\n",
        "p = Person('Farida')\n",
        "print(p.name)\n"
      ],
      "metadata": {
        "colab": {
          "base_uri": "https://localhost:8080/"
        },
        "id": "rhStxYz8IjYR",
        "outputId": "920fc9ed-5274-489b-c1c6-d9d60cd40b2d"
      },
      "execution_count": 10,
      "outputs": [
        {
          "output_type": "stream",
          "name": "stdout",
          "text": [
            "Farida\n"
          ]
        }
      ]
    },
    {
      "cell_type": "code",
      "source": [
        "class Car:\n",
        "    def drive(self):\n",
        "        return 'Driving'\n",
        "c = Car()\n",
        "print(c.drive())"
      ],
      "metadata": {
        "colab": {
          "base_uri": "https://localhost:8080/"
        },
        "id": "e22HBjBjK2gF",
        "outputId": "21978fbe-df02-4341-9b4c-ea997b6c9020"
      },
      "execution_count": 12,
      "outputs": [
        {
          "output_type": "stream",
          "name": "stdout",
          "text": [
            "Driving\n"
          ]
        }
      ]
    },
    {
      "cell_type": "code",
      "source": [
        "class Animal:\n",
        "    def speak(self):\n",
        "        return 'Sound'\n",
        "class Dog(Animal):\n",
        "    pass\n",
        "d = Dog()\n",
        "print(d.speak())"
      ],
      "metadata": {
        "colab": {
          "base_uri": "https://localhost:8080/"
        },
        "id": "gTO7NO0KLV-c",
        "outputId": "916b7fd4-8486-479c-933c-1d9d9226e2ab"
      },
      "execution_count": 13,
      "outputs": [
        {
          "output_type": "stream",
          "name": "stdout",
          "text": [
            "Sound\n"
          ]
        }
      ]
    },
    {
      "cell_type": "code",
      "source": [
        "class Animal:\n",
        "    def speak(self):\n",
        "        return 'Sound'\n",
        "class Cat(Animal):\n",
        "    def speak(self):\n",
        "        return 'Meow'\n",
        "c = Cat()\n",
        "print(c.speak())"
      ],
      "metadata": {
        "colab": {
          "base_uri": "https://localhost:8080/"
        },
        "id": "sZhSJS1aMrZn",
        "outputId": "6d31b74f-d8b5-4386-e383-a7da1c3d165c"
      },
      "execution_count": 14,
      "outputs": [
        {
          "output_type": "stream",
          "name": "stdout",
          "text": [
            "Meow\n"
          ]
        }
      ]
    },
    {
      "cell_type": "code",
      "source": [
        "class Student:\n",
        "    def __init__(self):\n",
        "        self.__grade = 85\n",
        "    def get_grade(self):\n",
        "        return self.__grade\n",
        "s = Student()\n",
        "print(s.get_grade())"
      ],
      "metadata": {
        "colab": {
          "base_uri": "https://localhost:8080/"
        },
        "id": "T6IzuOu6NCNQ",
        "outputId": "c4f8fb30-0b32-4b25-8e54-74dd02b4f34d"
      },
      "execution_count": 15,
      "outputs": [
        {
          "output_type": "stream",
          "name": "stdout",
          "text": [
            "85\n"
          ]
        }
      ]
    },
    {
      "cell_type": "code",
      "source": [
        "class Counter:\n",
        "    count = 0\n",
        "    def __init__(self):\n",
        "        Counter.count += 1\n",
        "c1 = Counter()\n",
        "c2 = Counter()\n",
        "print(Counter.count)"
      ],
      "metadata": {
        "colab": {
          "base_uri": "https://localhost:8080/"
        },
        "id": "GE6Lg2PaODhf",
        "outputId": "eba6fc80-3d03-4b0a-9247-f8173d0206f1"
      },
      "execution_count": 16,
      "outputs": [
        {
          "output_type": "stream",
          "name": "stdout",
          "text": [
            "2\n"
          ]
        }
      ]
    },
    {
      "cell_type": "code",
      "source": [
        "class Shape:\n",
        "    def area(self):\n",
        "        return 0\n",
        "class Circle(Shape):\n",
        "    def area(self):\n",
        "        return 3.14 * 2 * 2\n",
        "c = Circle()\n",
        "print(c.area())\n"
      ],
      "metadata": {
        "colab": {
          "base_uri": "https://localhost:8080/"
        },
        "id": "-n9GQ1TcQS24",
        "outputId": "ed6debb4-321d-48ef-8b5c-9649ec6e37f6"
      },
      "execution_count": 17,
      "outputs": [
        {
          "output_type": "stream",
          "name": "stdout",
          "text": [
            "12.56\n"
          ]
        }
      ]
    },
    {
      "cell_type": "code",
      "source": [
        "class Parent:\n",
        "    def __init__(self):\n",
        "        self.value = 10\n",
        "class Child(Parent):\n",
        "    def __init__(self):\n",
        "        super().__init__()\n",
        "c = Child()\n",
        "print(c.value)\n"
      ],
      "metadata": {
        "colab": {
          "base_uri": "https://localhost:8080/"
        },
        "id": "qy-iEYwEO94C",
        "outputId": "473b6d88-339f-4c50-e66c-3ba9ec4862d5"
      },
      "execution_count": 18,
      "outputs": [
        {
          "output_type": "stream",
          "name": "stdout",
          "text": [
            "10\n"
          ]
        }
      ]
    }
  ],
  "metadata": {
    "colab": {
      "provenance": [],
      "authorship_tag": "ABX9TyO7UJyQEZAvi4j/pHjRj9kk",
      "include_colab_link": true
    },
    "kernelspec": {
      "display_name": "Python 3",
      "name": "python3"
    },
    "language_info": {
      "name": "python"
    }
  },
  "nbformat": 4,
  "nbformat_minor": 0
}