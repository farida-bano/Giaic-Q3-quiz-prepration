{
  "nbformat": 4,
  "nbformat_minor": 0,
  "metadata": {
    "colab": {
      "provenance": [],
      "authorship_tag": "ABX9TyMsH58y9/G6C8L5CNZ+AEFG",
      "include_colab_link": true
    },
    "kernelspec": {
      "name": "python3",
      "display_name": "Python 3"
    },
    "language_info": {
      "name": "python"
    }
  },
  "cells": [
    {
      "cell_type": "markdown",
      "metadata": {
        "id": "view-in-github",
        "colab_type": "text"
      },
      "source": [
        "<a href=\"https://colab.research.google.com/github/farida-bano/Giaic-Q3-quiz-prepration/blob/main/Q3prepration.ipynb\" target=\"_parent\"><img src=\"https://colab.research.google.com/assets/colab-badge.svg\" alt=\"Open In Colab\"/></a>"
      ]
    },
    {
      "cell_type": "code",
      "execution_count": null,
      "metadata": {
        "colab": {
          "base_uri": "https://localhost:8080/"
        },
        "id": "u04uZ0CBevjm",
        "outputId": "96dcddea-c780-48b5-858e-2f537c7f77c0"
      },
      "outputs": [
        {
          "output_type": "stream",
          "name": "stdout",
          "text": [
            "<class 'int'> 40\n"
          ]
        }
      ],
      "source": [
        "#int\n",
        "my_num : int = 40\n",
        "print (type(my_num ),my_num)"
      ]
    },
    {
      "cell_type": "code",
      "source": [
        "#floating\n",
        "my_number:float =100.5\n",
        "print(my_number)"
      ],
      "metadata": {
        "colab": {
          "base_uri": "https://localhost:8080/"
        },
        "id": "sundUUn1e4HA",
        "outputId": "9f0d8fd6-e9e1-4f57-ca74-f10857e50c8c"
      },
      "execution_count": null,
      "outputs": [
        {
          "output_type": "stream",
          "name": "stdout",
          "text": [
            "100.5\n"
          ]
        }
      ]
    },
    {
      "cell_type": "code",
      "source": [
        "my_num:float = 200\n",
        "print(type(my_num),my_num)"
      ],
      "metadata": {
        "colab": {
          "base_uri": "https://localhost:8080/"
        },
        "id": "a_0jQ2mse_Be",
        "outputId": "cee47d53-d23c-49c9-8357-336ad391b80e"
      },
      "execution_count": null,
      "outputs": [
        {
          "output_type": "stream",
          "name": "stdout",
          "text": [
            "<class 'int'> 200\n"
          ]
        }
      ]
    },
    {
      "cell_type": "code",
      "source": [
        "my_num: float = 20\n",
        "print(type(my_num), my_num)   #  my_num: float = 200  python ny type theek kr likh di hy\n"
      ],
      "metadata": {
        "colab": {
          "base_uri": "https://localhost:8080/"
        },
        "id": "bhhCVHxOfFXt",
        "outputId": "54038b5f-055b-41be-8b4f-fd7fefe65281"
      },
      "execution_count": null,
      "outputs": [
        {
          "output_type": "stream",
          "name": "stdout",
          "text": [
            "<class 'int'> 20\n"
          ]
        }
      ]
    },
    {
      "cell_type": "code",
      "source": [
        "#Complex k 2 parts hotay hain aik imagenary and real\n",
        "my_num: complex = 3 + 8j # 3 real and  8j imaginary hy\n",
        "print (type(my_num), my_num)"
      ],
      "metadata": {
        "colab": {
          "base_uri": "https://localhost:8080/"
        },
        "id": "jmTxj2UIfNmS",
        "outputId": "1768345e-333e-4902-b6d5-ec00f874029c"
      },
      "execution_count": null,
      "outputs": [
        {
          "output_type": "stream",
          "name": "stdout",
          "text": [
            "<class 'complex'> (3+8j)\n"
          ]
        }
      ]
    },
    {
      "cell_type": "code",
      "source": [
        "#Accessing Real and imaginary\n",
        "my_num: complex = 3 + 8j # 3 real and  8j imaginary hy\n",
        "print (type(my_num), my_num .real) # is trha sy real 3.0 aaajy ga"
      ],
      "metadata": {
        "colab": {
          "base_uri": "https://localhost:8080/"
        },
        "id": "u8EEKcURfvmT",
        "outputId": "b53e18e7-e4a1-4ced-ddc2-ff1443060cbf"
      },
      "execution_count": null,
      "outputs": [
        {
          "output_type": "stream",
          "name": "stdout",
          "text": [
            "<class 'complex'> 3.0\n"
          ]
        }
      ]
    },
    {
      "cell_type": "code",
      "source": [
        "my_num: complex = 3 + 8j # 3 real and  8j imaginary hy\n",
        "print (type(my_num), my_num .real) # is trha sy real 3.0 aaajy ga\n",
        "print (type(my_num), my_num .imag) # is trha sy imag 8.0 aajaay ga"
      ],
      "metadata": {
        "colab": {
          "base_uri": "https://localhost:8080/"
        },
        "id": "SSng7eBwgNI9",
        "outputId": "a347de0d-11be-4ff1-811b-a68b998b541a"
      },
      "execution_count": null,
      "outputs": [
        {
          "output_type": "stream",
          "name": "stdout",
          "text": [
            "<class 'complex'> 3.0\n",
            "<class 'complex'> 8.0\n"
          ]
        }
      ]
    },
    {
      "cell_type": "code",
      "source": [
        "#Bool\n",
        "my_num: bool = False\n",
        "print(type(my_num), my_num)"
      ],
      "metadata": {
        "colab": {
          "base_uri": "https://localhost:8080/"
        },
        "id": "mvnM_0Eii-Ll",
        "outputId": "61a34475-d852-4c37-be5a-9b7cec75e50c"
      },
      "execution_count": null,
      "outputs": [
        {
          "output_type": "stream",
          "name": "stdout",
          "text": [
            "<class 'bool'> False\n"
          ]
        }
      ]
    },
    {
      "cell_type": "code",
      "source": [
        "# ager hum apni type ko chnage krna chahain to hum\n",
        "my_num: int=12 # int ko\n",
        "print(float( my_num))#float mai change krna hy"
      ],
      "metadata": {
        "colab": {
          "base_uri": "https://localhost:8080/"
        },
        "id": "SBpENs8vkQIH",
        "outputId": "4136f4a9-88bf-47f0-c3b6-2f3f759e0513"
      },
      "execution_count": null,
      "outputs": [
        {
          "output_type": "stream",
          "name": "stdout",
          "text": [
            "12.0\n"
          ]
        }
      ]
    },
    {
      "cell_type": "code",
      "source": [
        "my_num :int =12\n",
        "print(type(float(my_num)),float(my_num))#is type phir num float main aay ga"
      ],
      "metadata": {
        "colab": {
          "base_uri": "https://localhost:8080/"
        },
        "id": "ozPQ0YdglRYr",
        "outputId": "2d26a870-1f69-49ff-fd95-ad9fc74d6a74"
      },
      "execution_count": null,
      "outputs": [
        {
          "output_type": "stream",
          "name": "stdout",
          "text": [
            "<class 'float'> 12.0\n"
          ]
        }
      ]
    },
    {
      "cell_type": "code",
      "source": [
        "# hum complex ko int ya float main change nahi kr sakhty\n",
        "my_num :int =12\n",
        "print(type(complex(my_num)),complex(my_num))"
      ],
      "metadata": {
        "colab": {
          "base_uri": "https://localhost:8080/"
        },
        "id": "eSGs60R2lsdb",
        "outputId": "693633ca-1b14-417e-c3bb-3193b5b832e3"
      },
      "execution_count": null,
      "outputs": [
        {
          "output_type": "stream",
          "name": "stdout",
          "text": [
            "<class 'complex'> (12+0j)\n"
          ]
        }
      ]
    },
    {
      "cell_type": "code",
      "source": [
        "# hum complex sy int or float main nahi change kr sakhty\n",
        "my_num :complex =12+8j\n",
        "print(type(int(my_num)),int(my_num)) #typeerror aay ga"
      ],
      "metadata": {
        "colab": {
          "base_uri": "https://localhost:8080/",
          "height": 233
        },
        "id": "Ay2eZIRdnC-e",
        "outputId": "eb59e3df-8f4f-4297-9d04-f376a478fd9e"
      },
      "execution_count": null,
      "outputs": [
        {
          "output_type": "error",
          "ename": "TypeError",
          "evalue": "int() argument must be a string, a bytes-like object or a real number, not 'complex'",
          "traceback": [
            "\u001b[0;31m---------------------------------------------------------------------------\u001b[0m",
            "\u001b[0;31mTypeError\u001b[0m                                 Traceback (most recent call last)",
            "\u001b[0;32m<ipython-input-25-f84b61212d19>\u001b[0m in \u001b[0;36m<cell line: 0>\u001b[0;34m()\u001b[0m\n\u001b[1;32m      1\u001b[0m \u001b[0;31m# hum complex sy int or float main nahi change kr sakhty\u001b[0m\u001b[0;34m\u001b[0m\u001b[0;34m\u001b[0m\u001b[0m\n\u001b[1;32m      2\u001b[0m \u001b[0mmy_num\u001b[0m \u001b[0;34m:\u001b[0m\u001b[0mcomplex\u001b[0m \u001b[0;34m=\u001b[0m\u001b[0;36m12\u001b[0m\u001b[0;34m+\u001b[0m\u001b[0;36m8j\u001b[0m\u001b[0;34m\u001b[0m\u001b[0;34m\u001b[0m\u001b[0m\n\u001b[0;32m----> 3\u001b[0;31m \u001b[0mprint\u001b[0m\u001b[0;34m(\u001b[0m\u001b[0mtype\u001b[0m\u001b[0;34m(\u001b[0m\u001b[0mint\u001b[0m\u001b[0;34m(\u001b[0m\u001b[0mmy_num\u001b[0m\u001b[0;34m)\u001b[0m\u001b[0;34m)\u001b[0m\u001b[0;34m,\u001b[0m\u001b[0mint\u001b[0m\u001b[0;34m(\u001b[0m\u001b[0mmy_num\u001b[0m\u001b[0;34m)\u001b[0m\u001b[0;34m)\u001b[0m\u001b[0;34m\u001b[0m\u001b[0;34m\u001b[0m\u001b[0m\n\u001b[0m",
            "\u001b[0;31mTypeError\u001b[0m: int() argument must be a string, a bytes-like object or a real number, not 'complex'"
          ]
        }
      ]
    },
    {
      "cell_type": "code",
      "source": [
        "##SEQUENCE TYPES\n",
        "#     A.  STRING\n",
        "x:str =' my name  is Farida'\n",
        "print(type(x),x)"
      ],
      "metadata": {
        "colab": {
          "base_uri": "https://localhost:8080/"
        },
        "id": "U3yGILOvoBCH",
        "outputId": "bbc78c67-4947-4c28-cb93-46bb339a7e67"
      },
      "execution_count": null,
      "outputs": [
        {
          "output_type": "stream",
          "name": "stdout",
          "text": [
            "<class 'str'>  my name  is Farida\n"
          ]
        }
      ]
    },
    {
      "cell_type": "code",
      "source": [
        "# Multi line string\n",
        "#STRING\n",
        "x:str =\"\"\"\n",
        "my\n",
        "name\n",
        "is\n",
        "Farida\n",
        "bano \"\"\"\n",
        "print(x)"
      ],
      "metadata": {
        "colab": {
          "base_uri": "https://localhost:8080/"
        },
        "id": "w4FHQAOspFsX",
        "outputId": "6225d1ec-0c73-4ca1-f5b1-fad6e297fe3a"
      },
      "execution_count": null,
      "outputs": [
        {
          "output_type": "stream",
          "name": "stdout",
          "text": [
            "\n",
            "my \n",
            "name  \n",
            "is \n",
            "Farida\n",
            "bano \n"
          ]
        }
      ]
    },
    {
      "cell_type": "code",
      "source": [
        "#    B.   List\n",
        "# An ordered mutable collection /jo change ho jay\n",
        "x:list= []\n",
        "print(type(x),x)\n",
        "\n"
      ],
      "metadata": {
        "colab": {
          "base_uri": "https://localhost:8080/"
        },
        "id": "CKdWsHzOpole",
        "outputId": "57a8f011-42e9-41ff-a608-eee7c6c4de2e"
      },
      "execution_count": null,
      "outputs": [
        {
          "output_type": "stream",
          "name": "stdout",
          "text": [
            "<class 'list'> []\n"
          ]
        }
      ]
    },
    {
      "cell_type": "code",
      "source": [
        "# list ka syntx aajay ga\n",
        "x:list= [1,2,3,\"Java\",13.5 ,True,3+12J]\n",
        "print(type(x),x)"
      ],
      "metadata": {
        "colab": {
          "base_uri": "https://localhost:8080/"
        },
        "id": "N-Yv8bOFo3PZ",
        "outputId": "fb19146b-3279-404d-c84b-05ab6e5ea2af"
      },
      "execution_count": null,
      "outputs": [
        {
          "output_type": "stream",
          "name": "stdout",
          "text": [
            "<class 'list'> [1, 2, 3, 'Java', 13.5, True, (3+12j)]\n"
          ]
        }
      ]
    },
    {
      "cell_type": "code",
      "source": [
        "x:list= [1,2,3,\"Java\",13.5 ,True,3+12J]\n",
        "print(type(x),x)\n",
        "# value replace krny k liay\n",
        "x[2] =10\n",
        "print(x)"
      ],
      "metadata": {
        "id": "gP8rw1sFsFWh",
        "colab": {
          "base_uri": "https://localhost:8080/"
        },
        "outputId": "f4d92d64-134c-42ad-cbab-7f8653a78540"
      },
      "execution_count": null,
      "outputs": [
        {
          "output_type": "stream",
          "name": "stdout",
          "text": [
            "<class 'list'> [1, 2, 3, 'Java', 13.5, True, (3+12j)]\n",
            "[1, 2, 10, 'Java', 13.5, True, (3+12j)]\n"
          ]
        }
      ]
    },
    {
      "cell_type": "code",
      "source": [
        "#. C TUPLE\n",
        "# An ordered immutable collection\n",
        "x:tuple=()\n",
        "print(type(x))"
      ],
      "metadata": {
        "colab": {
          "base_uri": "https://localhost:8080/"
        },
        "id": "UBJD3Tn3Oeg8",
        "outputId": "2126794f-9529-446c-c412-5cc40ba69037"
      },
      "execution_count": null,
      "outputs": [
        {
          "output_type": "stream",
          "name": "stdout",
          "text": [
            "<class 'tuple'>\n"
          ]
        }
      ]
    },
    {
      "cell_type": "code",
      "source": [
        "x:tuple= (1,2,3,\"Java\",13.5 ,True,3+12J)\n",
        "print(type(x),x)"
      ],
      "metadata": {
        "colab": {
          "base_uri": "https://localhost:8080/"
        },
        "id": "ilMXLjCjO-5U",
        "outputId": "4d47396e-4dca-4bab-9668-9af60a3db2ea"
      },
      "execution_count": null,
      "outputs": [
        {
          "output_type": "stream",
          "name": "stdout",
          "text": [
            "<class 'tuple'> (1, 2, 3, 'Java', 13.5, True, (3+12j))\n"
          ]
        }
      ]
    },
    {
      "cell_type": "code",
      "source": [
        "#.  D Rang\n",
        "# Represent a sequence of numbers\n",
        "x:range =range (10) # by default o sy start hy\n",
        "print(type(x),(x))\n",
        "\n"
      ],
      "metadata": {
        "colab": {
          "base_uri": "https://localhost:8080/"
        },
        "id": "aIrFwSinPk9y",
        "outputId": "3dccfd82-662d-4ebc-b0a0-431e44352e47"
      },
      "execution_count": null,
      "outputs": [
        {
          "output_type": "stream",
          "name": "stdout",
          "text": [
            "<class 'range'> range(0, 10)\n"
          ]
        }
      ]
    },
    {
      "cell_type": "code",
      "source": [
        "x:range =range (1,10,2) # starting point 1 dia hy .is main 2 gap k liay dia hy\n",
        "print(type(x),x)\n",
        "print(x.start)\n",
        "print(x.stop)\n",
        "print(x.step)\n"
      ],
      "metadata": {
        "colab": {
          "base_uri": "https://localhost:8080/"
        },
        "id": "VihNhR7pQ3wh",
        "outputId": "5e18f6ab-6657-4eff-e04a-fabf339a728f"
      },
      "execution_count": null,
      "outputs": [
        {
          "output_type": "stream",
          "name": "stdout",
          "text": [
            "<class 'range'> range(1, 10, 2)\n",
            "1\n",
            "10\n",
            "2\n"
          ]
        }
      ]
    },
    {
      "cell_type": "code",
      "source": [
        "# loop k sath range method\n",
        "for i in range (1,10,2): # i aik variable hy\n",
        "  print(i)"
      ],
      "metadata": {
        "colab": {
          "base_uri": "https://localhost:8080/"
        },
        "id": "ZCajO1L4Sn9o",
        "outputId": "0473b4bf-ddfa-4748-b6fc-f016f10e2410"
      },
      "execution_count": null,
      "outputs": [
        {
          "output_type": "stream",
          "name": "stdout",
          "text": [
            "1\n",
            "3\n",
            "5\n",
            "7\n",
            "9\n"
          ]
        }
      ]
    },
    {
      "cell_type": "code",
      "source": [
        "# Range ki aik or misal\n",
        "for i in range (10): # i aik variable hy\n",
        "  print(i)"
      ],
      "metadata": {
        "colab": {
          "base_uri": "https://localhost:8080/"
        },
        "id": "SpZcN2xtTOkv",
        "outputId": "af565e22-7aac-4170-da09-09d3452fbf08"
      },
      "execution_count": null,
      "outputs": [
        {
          "output_type": "stream",
          "name": "stdout",
          "text": [
            "0\n",
            "1\n",
            "2\n",
            "3\n",
            "4\n",
            "5\n",
            "6\n",
            "7\n",
            "8\n",
            "9\n"
          ]
        }
      ]
    },
    {
      "cell_type": "code",
      "source": [
        "x:range =range(20)\n",
        "print(list(x))"
      ],
      "metadata": {
        "colab": {
          "base_uri": "https://localhost:8080/"
        },
        "id": "z1hudT77Ug9K",
        "outputId": "b8da4753-48dc-48b3-bf0b-9580e5fa9cc3"
      },
      "execution_count": null,
      "outputs": [
        {
          "output_type": "stream",
          "name": "stdout",
          "text": [
            "[0, 1, 2, 3, 4, 5, 6, 7, 8, 9, 10, 11, 12, 13, 14, 15, 16, 17, 18, 19]\n"
          ]
        }
      ]
    },
    {
      "cell_type": "code",
      "source": [
        "#giaic exam prepration\n",
        "\n",
        "x: tuple =(12,3,5,7,2)\n",
        "print (x [1:4]) # start ka number 1 dia .jo number chahiay us k bd wala number dena hy 2 ka index number 4 dena hy"
      ],
      "metadata": {
        "colab": {
          "base_uri": "https://localhost:8080/"
        },
        "id": "ymz6e8gUXimQ",
        "outputId": "3e41a932-fe8d-474d-9a58-67ec4b26b970"
      },
      "execution_count": null,
      "outputs": [
        {
          "output_type": "stream",
          "name": "stdout",
          "text": [
            "(12, 3, 5, 7)\n"
          ]
        }
      ]
    },
    {
      "cell_type": "code",
      "source": [
        "x: tuple =(12,3,5,7,2)\n",
        "print (x [0:4])# index 0 sy 4 likhnay py"
      ],
      "metadata": {
        "colab": {
          "base_uri": "https://localhost:8080/"
        },
        "id": "GDYzFlOjXsAG",
        "outputId": "dabe9dab-6f6b-494e-a52e-c806a1cf89cd"
      },
      "execution_count": null,
      "outputs": [
        {
          "output_type": "stream",
          "name": "stdout",
          "text": [
            "(12, 3, 5, 7)\n"
          ]
        }
      ]
    },
    {
      "cell_type": "code",
      "source": [
        "# hum tuple ko ya list ko aik dosray k sath change kr sakhty hain\n",
        "x: tuple =(12,3,5,7,2)\n",
        "y = list (x)\n",
        "print(type(y),y)"
      ],
      "metadata": {
        "colab": {
          "base_uri": "https://localhost:8080/"
        },
        "id": "VRDe4prJY6Ql",
        "outputId": "04acd74a-9eb5-4edb-b7be-5bf60082f07a"
      },
      "execution_count": null,
      "outputs": [
        {
          "output_type": "stream",
          "name": "stdout",
          "text": [
            "<class 'list'> [12, 3, 5, 7, 2]\n"
          ]
        }
      ]
    },
    {
      "cell_type": "code",
      "source": [
        "# 4 SET TYPE\n",
        "#Unordered collection with unique elements\n",
        "# a set (set) # mutable .underded and contains unique value\n",
        "my_set :set ={1,2,23,4,4,5}\n",
        "print(type(my_set),my_set)"
      ],
      "metadata": {
        "id": "u_CosCpTZivI"
      },
      "execution_count": null,
      "outputs": []
    },
    {
      "cell_type": "code",
      "source": [
        "#Remove\n",
        "my_set :set ={1,2,23,4,4,5}\n",
        "my_set.remove(4)\n",
        "print(type(my_set),\"my_set=\",my_set)"
      ],
      "metadata": {
        "colab": {
          "base_uri": "https://localhost:8080/"
        },
        "id": "t-gzp1RvKdhy",
        "outputId": "4217588d-5782-497a-b685-fbdd8b776aa9"
      },
      "execution_count": 3,
      "outputs": [
        {
          "output_type": "stream",
          "name": "stdout",
          "text": [
            "<class 'set'> my_set= {1, 2, 5, 23}\n"
          ]
        }
      ]
    },
    {
      "cell_type": "code",
      "source": [
        "# Frozen set ({}) sy\n",
        "x: frozenset = frozenset({1, 2, 3, 4, 5, 6})\n",
        "print(type(x), x)"
      ],
      "metadata": {
        "colab": {
          "base_uri": "https://localhost:8080/"
        },
        "id": "RSDc0aC9Ooe1",
        "outputId": "5d8654ad-b92c-49a9-ea73-744f4918e47e"
      },
      "execution_count": 12,
      "outputs": [
        {
          "output_type": "stream",
          "name": "stdout",
          "text": [
            "<class 'frozenset'> frozenset({1, 2, 3, 4, 5, 6})\n"
          ]
        }
      ]
    },
    {
      "cell_type": "code",
      "source": [
        "# Frozen set ([]) sy\n",
        "x: frozenset = frozenset([1, 2, 3, 4, 5, 6])\n",
        "print(type(x), x)"
      ],
      "metadata": {
        "colab": {
          "base_uri": "https://localhost:8080/"
        },
        "id": "hykWIG0wQhua",
        "outputId": "8911719e-30c5-4bf7-f592-6b8a677bf148"
      },
      "execution_count": 13,
      "outputs": [
        {
          "output_type": "stream",
          "name": "stdout",
          "text": [
            "<class 'frozenset'> frozenset({1, 2, 3, 4, 5, 6})\n"
          ]
        }
      ]
    },
    {
      "cell_type": "code",
      "source": [
        "# Mapping Type/Distionary(dict) stores key value pairs\n",
        "my_dict :dict={}\n",
        "print(my_dict)"
      ],
      "metadata": {
        "colab": {
          "base_uri": "https://localhost:8080/"
        },
        "id": "glY6QZyZQ5bN",
        "outputId": "73dd0721-00c5-4505-fd64-8a308b1d1b32"
      },
      "execution_count": 14,
      "outputs": [
        {
          "output_type": "stream",
          "name": "stdout",
          "text": [
            "{}\n"
          ]
        }
      ]
    },
    {
      "cell_type": "code",
      "source": [
        "my_dict :dict={\"name\":\"ali\",\"age\":14, \"class\":\"4th\"}\n",
        "print(my_dict)\n"
      ],
      "metadata": {
        "colab": {
          "base_uri": "https://localhost:8080/"
        },
        "id": "eotC0G2cRkde",
        "outputId": "0c233da3-1396-4bd9-89ef-dff721407dc2"
      },
      "execution_count": 15,
      "outputs": [
        {
          "output_type": "stream",
          "name": "stdout",
          "text": [
            "{'name': 'ali', 'age': 14, 'class': '4th'}\n"
          ]
        }
      ]
    },
    {
      "cell_type": "code",
      "source": [
        "my_dict :dict={\"name\":\"ali\",\"age\":14, \"class\":\"4th\"}\n",
        "print(type(my_dict),my_dict)"
      ],
      "metadata": {
        "colab": {
          "base_uri": "https://localhost:8080/"
        },
        "id": "qaWZ6PDESLYs",
        "outputId": "e92d4835-cf4e-4ad2-d279-f2d679f28f5d"
      },
      "execution_count": 16,
      "outputs": [
        {
          "output_type": "stream",
          "name": "stdout",
          "text": [
            "<class 'dict'> {'name': 'ali', 'age': 14, 'class': '4th'}\n"
          ]
        }
      ]
    },
    {
      "cell_type": "code",
      "source": [
        "my_dict:dict={\n",
        "    \"name\":\"ali\",\n",
        "    \"age\":14,\n",
        "    \"languages\":[\"Python\",\"Jave\",\"HTML\",\"CC+\",\"Next.js\"]}\n",
        "print(my_dict)"
      ],
      "metadata": {
        "colab": {
          "base_uri": "https://localhost:8080/"
        },
        "id": "4_2Gw3e0SvMz",
        "outputId": "26a29738-8871-4129-e140-5c8259b25b31"
      },
      "execution_count": 18,
      "outputs": [
        {
          "output_type": "stream",
          "name": "stdout",
          "text": [
            "{'name': 'ali', 'age': 14, 'languages': ['Python', 'Jave', 'HTML', 'CC+', 'Next.js']}\n"
          ]
        }
      ]
    },
    {
      "cell_type": "code",
      "source": [
        "my_dict: dict = {\n",
        "    \"name\": [\"Ali\",\"Ahmed\",\"Hassan\"],\n",
        "    \"age\": [14,16,18,12],\n",
        "    \"languages\": [\"Python\", \"Jave\", \"HTML\", \"CC+\", \"Next.js\"]\n",
        "}\n",
        "\n",
        "print(my_dict)"
      ],
      "metadata": {
        "colab": {
          "base_uri": "https://localhost:8080/"
        },
        "id": "FJVhv-5GTlZ7",
        "outputId": "ac61f229-e753-4113-86e9-11f1f85c5bab"
      },
      "execution_count": 19,
      "outputs": [
        {
          "output_type": "stream",
          "name": "stdout",
          "text": [
            "{'name': ['Ali', 'Ahmed', 'Hassan'], 'age': [14, 16, 18, 12], 'languages': ['Python', 'Jave', 'HTML', 'CC+', 'Next.js']}\n"
          ]
        }
      ]
    },
    {
      "cell_type": "code",
      "source": [
        "# sirf aik key ki values get krny k liay\n",
        "my_dict: dict = {\n",
        "    \"name\": [\"Ali\",\"Ahmed\",\"Hassan\"],\n",
        "    \"age\": [14,16,18,12],\n",
        "    \"languages\": [\"Python\", \"Jave\", \"HTML\", \"CC+\", \"Next.js\"]\n",
        "}\n",
        "\n",
        "print(my_dict[\"name\"])\n"
      ],
      "metadata": {
        "colab": {
          "base_uri": "https://localhost:8080/"
        },
        "id": "9XBaFQX8UKLl",
        "outputId": "bdb7504e-1c4d-4a6c-9f45-55649528f9d7"
      },
      "execution_count": 20,
      "outputs": [
        {
          "output_type": "stream",
          "name": "stdout",
          "text": [
            "['Ali', 'Ahmed', 'Hassan']\n"
          ]
        }
      ]
    },
    {
      "cell_type": "code",
      "source": [
        "my_dict: dict = {\n",
        "    \"name\": [\"Ali\", \"Ahmed\", \"Hassan\"],\n",
        "    \"age\": [14, 16, 18, 12],\n",
        "    \"languages\": [\"Python\", \"Jave\", \"HTML\", \"CC+\", \"Next.js\"]\n",
        "}\n",
        "\n",
        "print(my_dict[\"name\"][0])  # Ali\n",
        "print(my_dict[\"name\"][1])  # Ahmed\n",
        "print(my_dict[\"name\"][2])  # Hassan"
      ],
      "metadata": {
        "colab": {
          "base_uri": "https://localhost:8080/"
        },
        "id": "eh6VuykMUt2-",
        "outputId": "259f68f8-8325-4779-d4ab-e640063c233f"
      },
      "execution_count": 23,
      "outputs": [
        {
          "output_type": "stream",
          "name": "stdout",
          "text": [
            "Ali\n",
            "Ahmed\n",
            "Hassan\n"
          ]
        }
      ]
    },
    {
      "cell_type": "code",
      "source": [
        "# 0,1,2  positive index\n",
        "my_dict: dict = {\n",
        "    \"name\": [\"Ali\", \"Ahmed\", \"Hassan\"],\n",
        "    \"age\": [14, 16, 18, 12],\n",
        "    \"languages\": [\"Python\", \"Jave\", \"HTML\", \"CC+\", \"Next.js\"]\n",
        "}\n",
        "\n",
        "print(my_dict[\"name\"][-1])  # Ali\n",
        "print(my_dict[\"name\"][-2])  # Ahmed\n",
        "print(my_dict[\"name\"][-3])  # Hassan"
      ],
      "metadata": {
        "id": "exC435rwVv9q"
      },
      "execution_count": null,
      "outputs": []
    },
    {
      "cell_type": "code",
      "source": [
        "# -1, -2, -3  negitive index\n",
        "my_dict: dict = {\n",
        "    \"name\": [\"Ali\", \"Ahmed\", \"Hassan\"],\n",
        "    \"age\": [14, 16, 18, 12],\n",
        "    \"languages\": [\"Python\", \"Jave\", \"HTML\", \"CC+\", \"Next.js\"]\n",
        "}\n",
        "\n",
        "print(my_dict[\"name\"][0])  # Ali\n",
        "print(my_dict[\"name\"][1])  # Ahmed\n",
        "print(my_dict[\"name\"][2])  # Hassan"
      ],
      "metadata": {
        "colab": {
          "base_uri": "https://localhost:8080/"
        },
        "id": "kYf7cNlGVl92",
        "outputId": "c7398160-682b-4319-d877-c05133cdcdfd"
      },
      "execution_count": 24,
      "outputs": [
        {
          "output_type": "stream",
          "name": "stdout",
          "text": [
            "Ali\n",
            "Ahmed\n",
            "Hassan\n"
          ]
        }
      ]
    },
    {
      "cell_type": "code",
      "source": [
        "# Non Data Type in python  is main apki valus kuch bhi na ho wo non data type hy\n",
        "x:str=None\n",
        "y:str=None\n",
        "z:str=None\n",
        "print(type(x))"
      ],
      "metadata": {
        "colab": {
          "base_uri": "https://localhost:8080/"
        },
        "id": "glsr1VJEWlTe",
        "outputId": "1300f72e-36c5-4e3e-c2a1-ce6da7fd91c7"
      },
      "execution_count": 27,
      "outputs": [
        {
          "output_type": "stream",
          "name": "stdout",
          "text": [
            "<class 'NoneType'>\n"
          ]
        }
      ]
    },
    {
      "cell_type": "code",
      "source": [
        "# none in function\n",
        "def get_name():\n",
        "    return None  # abhi name nahi mila\n",
        "\n",
        "name: str = get_name()\n",
        "\n",
        "if name is None:\n",
        "    print(\"Name abhi assign nahi hua.\")\n",
        "else:\n",
        "    print(f\"Name: {name}\")\n"
      ],
      "metadata": {
        "colab": {
          "base_uri": "https://localhost:8080/"
        },
        "id": "sC2T7lLdXseQ",
        "outputId": "63f69e1e-db12-4562-d74a-03ba74fb6c60"
      },
      "execution_count": 28,
      "outputs": [
        {
          "output_type": "stream",
          "name": "stdout",
          "text": [
            "Name abhi assign nahi hua.\n"
          ]
        }
      ]
    },
    {
      "cell_type": "code",
      "source": [
        "#id  function?The id() function in Python returns the unique identifier (memory address) of an object.\n",
        "# memory main majod us ki id batata hy\n",
        "x=10\n",
        "print(id(x))# memory address batay ga\n"
      ],
      "metadata": {
        "colab": {
          "base_uri": "https://localhost:8080/"
        },
        "id": "4Elagq1wX6px",
        "outputId": "26ea741d-e264-4789-88f1-7365cf6b03c0"
      },
      "execution_count": 29,
      "outputs": [
        {
          "output_type": "stream",
          "name": "stdout",
          "text": [
            "10751144\n"
          ]
        }
      ]
    },
    {
      "cell_type": "code",
      "source": [
        "x=\"Farida Bano\"\n",
        "print(id(x))# memory address batay ga"
      ],
      "metadata": {
        "colab": {
          "base_uri": "https://localhost:8080/"
        },
        "id": "5ZJtIF3nZNaK",
        "outputId": "50ef6e4e-28d0-4707-8d0c-429e841d1f49"
      },
      "execution_count": 30,
      "outputs": [
        {
          "output_type": "stream",
          "name": "stdout",
          "text": [
            "136470915315120\n"
          ]
        }
      ]
    },
    {
      "cell_type": "code",
      "source": [
        "# x and y ami different data hy\n",
        "x=[1,2,3,]#mutable\n",
        "y=[4,5,6,]#mutable\n",
        "print(id(x))\n",
        "print(id(y))"
      ],
      "metadata": {
        "colab": {
          "base_uri": "https://localhost:8080/"
        },
        "id": "JNOw0VJPZ8Hc",
        "outputId": "3c64f569-d1cd-4bd3-e1f9-2e0ef0b0bc2a"
      },
      "execution_count": 34,
      "outputs": [
        {
          "output_type": "stream",
          "name": "stdout",
          "text": [
            "136470915426432\n",
            "136470915551488\n"
          ]
        }
      ]
    },
    {
      "cell_type": "code",
      "source": [
        "# x and y ami same data hy /phir bhi id diffrent hy\n",
        "x=[1,2,3,]#mutable\n",
        "y=[1,2,3,]#mutable\n",
        "print(id(x))\n",
        "print(id(y))"
      ],
      "metadata": {
        "colab": {
          "base_uri": "https://localhost:8080/"
        },
        "id": "eagrYq-tbD3y",
        "outputId": "deb1c741-b773-4e92-ece8-9670474d7643"
      },
      "execution_count": 36,
      "outputs": [
        {
          "output_type": "stream",
          "name": "stdout",
          "text": [
            "136470915420352\n",
            "136470928769280\n"
          ]
        }
      ]
    },
    {
      "cell_type": "code",
      "source": [
        "#Since 150 is within the cached range, both x and y\n",
        "#will point to the same integer object in memory.\n",
        "x= 150 # mutable\n",
        "y= 150 # mutable\n",
        "print(id(x))\n",
        "print(id(y))\n"
      ],
      "metadata": {
        "colab": {
          "base_uri": "https://localhost:8080/"
        },
        "id": "tWjm3OB_bVof",
        "outputId": "717fd1b7-9a73-459e-993f-71ec2c717828"
      },
      "execution_count": 38,
      "outputs": [
        {
          "output_type": "stream",
          "name": "stdout",
          "text": [
            "10755624\n",
            "10755624\n"
          ]
        }
      ]
    },
    {
      "cell_type": "code",
      "source": [
        "#But if you tried with a number outside the cache range (like 1000),\n",
        "#depending on the Python implementation, they might not have the same id:\n",
        "a = 1000\n",
        "b = 1000\n",
        "print(id(a))\n",
        "print(id(b))"
      ],
      "metadata": {
        "colab": {
          "base_uri": "https://localhost:8080/"
        },
        "id": "6N3gTS0QcmNK",
        "outputId": "fb3aed16-28e6-42ac-d30c-7d3478578b2f"
      },
      "execution_count": 39,
      "outputs": [
        {
          "output_type": "stream",
          "name": "stdout",
          "text": [
            "136470916179152\n",
            "136470916172720\n"
          ]
        }
      ]
    },
    {
      "cell_type": "code",
      "source": [
        "#==  value ko compare kr ga\n",
        "#x and y ki value barabar na ho False aay ga q k == nahi hy\n",
        "\n",
        "x=10\n",
        "y=5\n",
        "print(x==y)"
      ],
      "metadata": {
        "colab": {
          "base_uri": "https://localhost:8080/"
        },
        "id": "0wD4PwMer4Xb",
        "outputId": "b7accc0b-81e3-4cd7-c722-02a11c6f929b"
      },
      "execution_count": 46,
      "outputs": [
        {
          "output_type": "stream",
          "name": "stdout",
          "text": [
            "False\n"
          ]
        }
      ]
    },
    {
      "cell_type": "code",
      "source": [
        "x=10\n",
        "y=10\n",
        "print(x==y)"
      ],
      "metadata": {
        "colab": {
          "base_uri": "https://localhost:8080/"
        },
        "id": "aklYBR4XsiLQ",
        "outputId": "926b9f7c-7c02-424f-f296-bbdf940c6ace"
      },
      "execution_count": 42,
      "outputs": [
        {
          "output_type": "stream",
          "name": "stdout",
          "text": [
            "True\n"
          ]
        }
      ]
    },
    {
      "cell_type": "code",
      "source": [
        "# is jo sy id/ID ya memory ko check kry ga k same hy?\n",
        "#ager same nahi ho gi false dy ga\n",
        "x=10\n",
        "y=5\n",
        "print(x is y)"
      ],
      "metadata": {
        "colab": {
          "base_uri": "https://localhost:8080/"
        },
        "id": "rzCNt6pYssNL",
        "outputId": "93d4ed22-7ec0-47d3-bfba-f4200c3995d9"
      },
      "execution_count": 45,
      "outputs": [
        {
          "output_type": "stream",
          "name": "stdout",
          "text": [
            "False\n"
          ]
        }
      ]
    },
    {
      "cell_type": "code",
      "source": [
        "X=[1,2,3,] #mutable\n",
        "y=[1,2,3,] #mutable\n",
        "print( x is y)"
      ],
      "metadata": {
        "colab": {
          "base_uri": "https://localhost:8080/"
        },
        "id": "U1ZabX2asuO0",
        "outputId": "02bd5229-d6bb-4a5c-9f0a-4a7295e9ccf8"
      },
      "execution_count": 48,
      "outputs": [
        {
          "output_type": "stream",
          "name": "stdout",
          "text": [
            "False\n"
          ]
        }
      ]
    },
    {
      "cell_type": "code",
      "source": [
        "# TYPE CASTING\n",
        "#2 Types of Type Casting:\n",
        "#Implicit Type Casting (Automatically hoti hai) GAIR WAZEH BILWASTA\n",
        "#Explicit Type Casting (Manually karni parti hai) WAZEH OR BARASRAST\n",
        "\n",
        "x = 34\n",
        "print(type(x)) # kud us ny cast bata di\n",
        "\n"
      ],
      "metadata": {
        "colab": {
          "base_uri": "https://localhost:8080/"
        },
        "id": "b6dbD6KrwpCP",
        "outputId": "c105991f-81dd-4d72-84d6-451f43cf3ca3"
      },
      "execution_count": 52,
      "outputs": [
        {
          "output_type": "stream",
          "name": "stdout",
          "text": [
            "<class 'int'>\n"
          ]
        }
      ]
    },
    {
      "cell_type": "code",
      "source": [
        "a = 5        # int\n",
        "b = 2.0      # float\n",
        "c = a + b    # a (int) → float automatically\n",
        "\n",
        "print(c)     # Output: 7.0"
      ],
      "metadata": {
        "colab": {
          "base_uri": "https://localhost:8080/"
        },
        "id": "v2qZeP2sz49V",
        "outputId": "10d11299-a76b-4b40-b125-99fed5bb778d"
      },
      "execution_count": 50,
      "outputs": [
        {
          "output_type": "stream",
          "name": "stdout",
          "text": [
            "7.0\n"
          ]
        }
      ]
    },
    {
      "cell_type": "code",
      "source": [
        "#Impilicit casting\n",
        "num1 =input (\"Enter a  first number\") # input ki type by default. string hoti hy\n",
        "num2 = input(\"Enter a second number\")\n",
        "print(num1+num2)# cocatenation kr raha hy\n"
      ],
      "metadata": {
        "colab": {
          "base_uri": "https://localhost:8080/"
        },
        "id": "bgcKb65H0giK",
        "outputId": "af8dc751-2964-44e9-b3dd-42e1861b3e86"
      },
      "execution_count": 56,
      "outputs": [
        {
          "output_type": "stream",
          "name": "stdout",
          "text": [
            "Enter a  first number 56\n",
            "Enter a second number56\n",
            " 5656\n"
          ]
        }
      ]
    },
    {
      "cell_type": "code",
      "source": [
        "#Explicit Casting\n",
        "num1 =int(input (\"Enter a  first number\")) # hum khud python int dy ray hain\n",
        "num2 =int (input(\"Enter a second number\"))\n",
        "print(num1+num2)# tu ab sum answer aay ga q k hum kud int wirte kia hy\n"
      ],
      "metadata": {
        "colab": {
          "base_uri": "https://localhost:8080/"
        },
        "id": "wCdA-Ctp2CmW",
        "outputId": "18342468-5f01-4871-e0fc-2371bd565c9b"
      },
      "execution_count": 59,
      "outputs": [
        {
          "output_type": "stream",
          "name": "stdout",
          "text": [
            "Enter a  first number90\n",
            "Enter a second number98\n",
            "188\n"
          ]
        }
      ]
    },
    {
      "cell_type": "code",
      "source": [],
      "metadata": {
        "id": "xwUPIhKz2Trc"
      },
      "execution_count": null,
      "outputs": []
    }
  ]
}